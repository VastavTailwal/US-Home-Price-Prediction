{
 "cells": [
  {
   "cell_type": "markdown",
   "id": "75855593-8ce2-4b00-82a3-10871e41d0d6",
   "metadata": {},
   "source": [
    "# US Home Price Prediction"
   ]
  },
  {
   "cell_type": "markdown",
   "id": "5c850465-cb82-4e0a-a366-df33d384086b",
   "metadata": {},
   "source": [
    "## Reading Data"
   ]
  },
  {
   "cell_type": "code",
   "execution_count": 1,
   "id": "b367ae6c-4968-4986-b6a8-d339ae9be583",
   "metadata": {},
   "outputs": [],
   "source": [
    "import numpy as np\n",
    "import pandas as pd\n",
    "import matplotlib.pyplot as plt"
   ]
  },
  {
   "cell_type": "code",
   "execution_count": 2,
   "id": "d0380e75-4948-46a6-a157-ce32710c6868",
   "metadata": {},
   "outputs": [],
   "source": [
    "gdp = pd.read_csv(\"Data/gdp.csv\")\n",
    "immig = pd.read_csv(\"Data/immigrants.csv\")\n",
    "infl = pd.read_csv(\"Data/inflation.csv\")\n",
    "mrtg = pd.read_csv(\"Data/mortgage.csv\")\n",
    "ppl = pd.read_csv(\"Data/population.csv\")\n",
    "unemp = pd.read_csv(\"Data/unemployment.csv\")\n",
    "cs = pd.read_csv(\"Data/cs-shi.csv\")\n",
    "income = pd.read_csv(\"Data/median-income.csv\")\n",
    "owner = pd.read_csv(\"Data/homeownership-rate.csv\")"
   ]
  },
  {
   "cell_type": "markdown",
   "id": "9699c63d-88f7-4b49-a602-29fef039c20d",
   "metadata": {},
   "source": [
    "## GDP"
   ]
  },
  {
   "cell_type": "code",
   "execution_count": 3,
   "id": "98d5adcf-f56c-45a2-9d33-7b14b67d0b44",
   "metadata": {},
   "outputs": [
    {
     "name": "stdout",
     "output_type": "stream",
     "text": [
      "<class 'pandas.core.frame.DataFrame'>\n",
      "RangeIndex: 20 entries, 0 to 19\n",
      "Data columns (total 3 columns):\n",
      " #   Column          Non-Null Count  Dtype  \n",
      "---  ------          --------------  -----  \n",
      " 0   date            20 non-null     object \n",
      " 1   gdp_billion     20 non-null     float64\n",
      " 2   gdp_per_capita  20 non-null     float64\n",
      "dtypes: float64(2), object(1)\n",
      "memory usage: 608.0+ bytes\n"
     ]
    }
   ],
   "source": [
    "gdp.info()"
   ]
  },
  {
   "cell_type": "code",
   "execution_count": 4,
   "id": "55b13aed-e124-4194-80d1-a37ea7aa39c5",
   "metadata": {},
   "outputs": [],
   "source": [
    "gdp['date'] = pd.to_datetime(gdp['date'], format='%d-%m-%Y')"
   ]
  },
  {
   "cell_type": "code",
   "execution_count": 5,
   "id": "a30fe171-30f6-40aa-9ae4-e5ee8c6b4719",
   "metadata": {},
   "outputs": [
    {
     "data": {
      "text/html": [
       "<div>\n",
       "<style scoped>\n",
       "    .dataframe tbody tr th:only-of-type {\n",
       "        vertical-align: middle;\n",
       "    }\n",
       "\n",
       "    .dataframe tbody tr th {\n",
       "        vertical-align: top;\n",
       "    }\n",
       "\n",
       "    .dataframe thead th {\n",
       "        text-align: right;\n",
       "    }\n",
       "</style>\n",
       "<table border=\"1\" class=\"dataframe\">\n",
       "  <thead>\n",
       "    <tr style=\"text-align: right;\">\n",
       "      <th></th>\n",
       "      <th>date</th>\n",
       "      <th>gdp_billion</th>\n",
       "      <th>gdp_per_capita</th>\n",
       "    </tr>\n",
       "  </thead>\n",
       "  <tbody>\n",
       "    <tr>\n",
       "      <th>0</th>\n",
       "      <td>2003-12-31</td>\n",
       "      <td>11456.44204</td>\n",
       "      <td>39490.2750</td>\n",
       "    </tr>\n",
       "    <tr>\n",
       "      <th>1</th>\n",
       "      <td>2004-12-31</td>\n",
       "      <td>12217.19320</td>\n",
       "      <td>41724.6316</td>\n",
       "    </tr>\n",
       "    <tr>\n",
       "      <th>2</th>\n",
       "      <td>2005-12-31</td>\n",
       "      <td>13039.19919</td>\n",
       "      <td>44123.4071</td>\n",
       "    </tr>\n",
       "    <tr>\n",
       "      <th>3</th>\n",
       "      <td>2006-12-31</td>\n",
       "      <td>13815.58695</td>\n",
       "      <td>46302.0009</td>\n",
       "    </tr>\n",
       "    <tr>\n",
       "      <th>4</th>\n",
       "      <td>2007-12-31</td>\n",
       "      <td>14474.22691</td>\n",
       "      <td>48050.2238</td>\n",
       "    </tr>\n",
       "  </tbody>\n",
       "</table>\n",
       "</div>"
      ],
      "text/plain": [
       "        date  gdp_billion  gdp_per_capita\n",
       "0 2003-12-31  11456.44204      39490.2750\n",
       "1 2004-12-31  12217.19320      41724.6316\n",
       "2 2005-12-31  13039.19919      44123.4071\n",
       "3 2006-12-31  13815.58695      46302.0009\n",
       "4 2007-12-31  14474.22691      48050.2238"
      ]
     },
     "execution_count": 5,
     "metadata": {},
     "output_type": "execute_result"
    }
   ],
   "source": [
    "gdp.head()"
   ]
  },
  {
   "cell_type": "code",
   "execution_count": 6,
   "id": "5bc93013-44cb-437d-81df-7c7aae76b8c7",
   "metadata": {},
   "outputs": [],
   "source": [
    "gdp['year'] = gdp['date'].dt.year\n",
    "gdp['month'] = gdp['date'].dt.month\n",
    "gdp['day'] = gdp['date'].dt.day"
   ]
  },
  {
   "cell_type": "code",
   "execution_count": 7,
   "id": "d103dbc9-c704-49e4-b760-8e6181570141",
   "metadata": {},
   "outputs": [
    {
     "data": {
      "text/html": [
       "<div>\n",
       "<style scoped>\n",
       "    .dataframe tbody tr th:only-of-type {\n",
       "        vertical-align: middle;\n",
       "    }\n",
       "\n",
       "    .dataframe tbody tr th {\n",
       "        vertical-align: top;\n",
       "    }\n",
       "\n",
       "    .dataframe thead th {\n",
       "        text-align: right;\n",
       "    }\n",
       "</style>\n",
       "<table border=\"1\" class=\"dataframe\">\n",
       "  <thead>\n",
       "    <tr style=\"text-align: right;\">\n",
       "      <th></th>\n",
       "      <th>date</th>\n",
       "      <th>gdp_billion</th>\n",
       "      <th>gdp_per_capita</th>\n",
       "      <th>year</th>\n",
       "      <th>month</th>\n",
       "      <th>day</th>\n",
       "    </tr>\n",
       "  </thead>\n",
       "  <tbody>\n",
       "    <tr>\n",
       "      <th>0</th>\n",
       "      <td>2003-12-31</td>\n",
       "      <td>11456.44204</td>\n",
       "      <td>39490.2750</td>\n",
       "      <td>2003</td>\n",
       "      <td>12</td>\n",
       "      <td>31</td>\n",
       "    </tr>\n",
       "    <tr>\n",
       "      <th>1</th>\n",
       "      <td>2004-12-31</td>\n",
       "      <td>12217.19320</td>\n",
       "      <td>41724.6316</td>\n",
       "      <td>2004</td>\n",
       "      <td>12</td>\n",
       "      <td>31</td>\n",
       "    </tr>\n",
       "    <tr>\n",
       "      <th>2</th>\n",
       "      <td>2005-12-31</td>\n",
       "      <td>13039.19919</td>\n",
       "      <td>44123.4071</td>\n",
       "      <td>2005</td>\n",
       "      <td>12</td>\n",
       "      <td>31</td>\n",
       "    </tr>\n",
       "    <tr>\n",
       "      <th>3</th>\n",
       "      <td>2006-12-31</td>\n",
       "      <td>13815.58695</td>\n",
       "      <td>46302.0009</td>\n",
       "      <td>2006</td>\n",
       "      <td>12</td>\n",
       "      <td>31</td>\n",
       "    </tr>\n",
       "    <tr>\n",
       "      <th>4</th>\n",
       "      <td>2007-12-31</td>\n",
       "      <td>14474.22691</td>\n",
       "      <td>48050.2238</td>\n",
       "      <td>2007</td>\n",
       "      <td>12</td>\n",
       "      <td>31</td>\n",
       "    </tr>\n",
       "  </tbody>\n",
       "</table>\n",
       "</div>"
      ],
      "text/plain": [
       "        date  gdp_billion  gdp_per_capita  year  month  day\n",
       "0 2003-12-31  11456.44204      39490.2750  2003     12   31\n",
       "1 2004-12-31  12217.19320      41724.6316  2004     12   31\n",
       "2 2005-12-31  13039.19919      44123.4071  2005     12   31\n",
       "3 2006-12-31  13815.58695      46302.0009  2006     12   31\n",
       "4 2007-12-31  14474.22691      48050.2238  2007     12   31"
      ]
     },
     "execution_count": 7,
     "metadata": {},
     "output_type": "execute_result"
    }
   ],
   "source": [
    "gdp.head()"
   ]
  },
  {
   "cell_type": "code",
   "execution_count": 8,
   "id": "d6dbfa40-ba1b-4ab8-b642-f5a7b898d378",
   "metadata": {},
   "outputs": [
    {
     "name": "stdout",
     "output_type": "stream",
     "text": [
      "<class 'pandas.core.frame.DataFrame'>\n",
      "RangeIndex: 20 entries, 0 to 19\n",
      "Data columns (total 6 columns):\n",
      " #   Column          Non-Null Count  Dtype         \n",
      "---  ------          --------------  -----         \n",
      " 0   date            20 non-null     datetime64[ns]\n",
      " 1   gdp_billion     20 non-null     float64       \n",
      " 2   gdp_per_capita  20 non-null     float64       \n",
      " 3   year            20 non-null     int32         \n",
      " 4   month           20 non-null     int32         \n",
      " 5   day             20 non-null     int32         \n",
      "dtypes: datetime64[ns](1), float64(2), int32(3)\n",
      "memory usage: 848.0 bytes\n"
     ]
    }
   ],
   "source": [
    "gdp.info()"
   ]
  },
  {
   "cell_type": "code",
   "execution_count": 9,
   "id": "44b638bb-13d5-47c9-ab81-6a07526de641",
   "metadata": {},
   "outputs": [],
   "source": [
    "gdp.drop(columns=['date', 'day'], inplace=True)"
   ]
  },
  {
   "cell_type": "code",
   "execution_count": 10,
   "id": "bad2020f-ecb9-422e-ad8f-ca43eaf13df3",
   "metadata": {},
   "outputs": [],
   "source": [
    "gdp.drop(columns=['month'], inplace=True)"
   ]
  },
  {
   "cell_type": "code",
   "execution_count": 11,
   "id": "140f9908-3868-4914-8b03-b8a1660f74a4",
   "metadata": {},
   "outputs": [
    {
     "data": {
      "image/png": "[encoded data removed]",
      "text/plain": [
       "<Figure size 1500x700 with 2 Axes>"
      ]
     },
     "metadata": {},
     "output_type": "display_data"
    }
   ],
   "source": [
    "fig, ax = plt.subplots(nrows=1, ncols=2, figsize=(15, 7))\n",
    "\n",
    "fig.suptitle('US GDP')\n",
    "\n",
    "ax[0].plot(gdp['year'], gdp['gdp_billion'])\n",
    "ax[0].set_xlabel('Year')\n",
    "ax[0].set_ylabel('GDP (Billion $)')\n",
    "ax[0].set_xticks(gdp['year'])\n",
    "ax[0].tick_params(axis='x', labelrotation=60)\n",
    "\n",
    "ax[1].plot(gdp['year'], gdp['gdp_per_capita'])\n",
    "ax[1].set_xlabel('Year')\n",
    "ax[1].set_ylabel('GDP Per Capita ($)')\n",
    "ax[1].set_xticks(gdp['year'])\n",
    "ax[1].tick_params(axis='x', labelrotation=60)\n",
    "\n",
    "plt.show()"
   ]
  },
  {
   "cell_type": "code",
   "execution_count": 12,
   "id": "4ecdba6a-8980-40d7-8e48-ce2fbfa3ad68",
   "metadata": {},
   "outputs": [],
   "source": [
    "gdp.to_csv('gdp.csv', header=True, index=False)"
   ]
  },
  {
   "cell_type": "markdown",
   "id": "3d5254f3-7dc1-4e41-95e9-8c9815b8801c",
   "metadata": {},
   "source": [
    "## Immigrants"
   ]
  },
  {
   "cell_type": "code",
   "execution_count": 13,
   "id": "b76ad9f8-31a3-417f-b6d6-fc3c945be7d4",
   "metadata": {},
   "outputs": [
    {
     "name": "stdout",
     "output_type": "stream",
     "text": [
      "<class 'pandas.core.frame.DataFrame'>\n",
      "RangeIndex: 20 entries, 0 to 19\n",
      "Data columns (total 2 columns):\n",
      " #   Column      Non-Null Count  Dtype\n",
      "---  ------      --------------  -----\n",
      " 0   date        20 non-null     int64\n",
      " 1   immigrants  20 non-null     int64\n",
      "dtypes: int64(2)\n",
      "memory usage: 448.0 bytes\n"
     ]
    }
   ],
   "source": [
    "immig.info()"
   ]
  },
  {
   "cell_type": "code",
   "execution_count": 14,
   "id": "b71a234d-3b35-4f3d-9719-21ff2db03b03",
   "metadata": {},
   "outputs": [],
   "source": [
    "immig['date'] = pd.to_datetime(immig['date'], format='%Y').dt.year"
   ]
  },
  {
   "cell_type": "code",
   "execution_count": 15,
   "id": "49304663-a539-423a-982d-a7bf0d98e30f",
   "metadata": {},
   "outputs": [
    {
     "data": {
      "text/html": [
       "<div>\n",
       "<style scoped>\n",
       "    .dataframe tbody tr th:only-of-type {\n",
       "        vertical-align: middle;\n",
       "    }\n",
       "\n",
       "    .dataframe tbody tr th {\n",
       "        vertical-align: top;\n",
       "    }\n",
       "\n",
       "    .dataframe thead th {\n",
       "        text-align: right;\n",
       "    }\n",
       "</style>\n",
       "<table border=\"1\" class=\"dataframe\">\n",
       "  <thead>\n",
       "    <tr style=\"text-align: right;\">\n",
       "      <th></th>\n",
       "      <th>date</th>\n",
       "      <th>immigrants</th>\n",
       "    </tr>\n",
       "  </thead>\n",
       "  <tbody>\n",
       "    <tr>\n",
       "      <th>0</th>\n",
       "      <td>2003</td>\n",
       "      <td>31955200</td>\n",
       "    </tr>\n",
       "    <tr>\n",
       "      <th>1</th>\n",
       "      <td>2004</td>\n",
       "      <td>32255800</td>\n",
       "    </tr>\n",
       "    <tr>\n",
       "      <th>2</th>\n",
       "      <td>2005</td>\n",
       "      <td>33955500</td>\n",
       "    </tr>\n",
       "    <tr>\n",
       "      <th>3</th>\n",
       "      <td>2006</td>\n",
       "      <td>34455800</td>\n",
       "    </tr>\n",
       "    <tr>\n",
       "      <th>4</th>\n",
       "      <td>2007</td>\n",
       "      <td>35955400</td>\n",
       "    </tr>\n",
       "  </tbody>\n",
       "</table>\n",
       "</div>"
      ],
      "text/plain": [
       "   date  immigrants\n",
       "0  2003    31955200\n",
       "1  2004    32255800\n",
       "2  2005    33955500\n",
       "3  2006    34455800\n",
       "4  2007    35955400"
      ]
     },
     "execution_count": 15,
     "metadata": {},
     "output_type": "execute_result"
    }
   ],
   "source": [
    "immig.head()"
   ]
  },
  {
   "cell_type": "code",
   "execution_count": 16,
   "id": "7a62d0de-f997-43a0-bf2e-3777e9320114",
   "metadata": {},
   "outputs": [],
   "source": [
    "immig.columns = ['year', 'immigrants']"
   ]
  },
  {
   "cell_type": "code",
   "execution_count": 17,
   "id": "a96e330e-056f-440f-bffe-7e80931a93a3",
   "metadata": {},
   "outputs": [],
   "source": [
    "immig['immigrants_million'] = immig['immigrants'] / 1_000_000"
   ]
  },
  {
   "cell_type": "code",
   "execution_count": 18,
   "id": "a07f0466-6f59-413a-b092-2cb3aff6ac83",
   "metadata": {},
   "outputs": [
    {
     "data": {
      "image/png": "[encoded data removed]",
      "text/plain": [
       "<Figure size 700x500 with 1 Axes>"
      ]
     },
     "metadata": {},
     "output_type": "display_data"
    }
   ],
   "source": [
    "fig, ax = plt.subplots(nrows=1, ncols=1, figsize=(7, 5))\n",
    "\n",
    "ax.set_title('US Immigration')\n",
    "\n",
    "ax.plot(immig['year'], immig['immigrants_million'])\n",
    "ax.set_xlabel('Year')\n",
    "ax.set_ylabel('Immigrants (Million)')\n",
    "ax.set_xticks(immig['year'])\n",
    "ax.tick_params(axis='x', labelrotation=60)\n",
    "\n",
    "plt.show()"
   ]
  },
  {
   "cell_type": "code",
   "execution_count": 19,
   "id": "3c7c4893-8954-428b-b88c-48c711f6eee0",
   "metadata": {},
   "outputs": [],
   "source": [
    "immig.drop(columns=['immigrants'], inplace=True)"
   ]
  },
  {
   "cell_type": "code",
   "execution_count": 20,
   "id": "879b1379-ebf3-4eba-8df8-e78e989295ee",
   "metadata": {},
   "outputs": [],
   "source": [
    "immig.to_csv('immigration.csv', header=True, index=False)"
   ]
  },
  {
   "cell_type": "markdown",
   "id": "03a14866-e008-421d-96ad-0b36d4767a33",
   "metadata": {},
   "source": [
    "## Case Shiller"
   ]
  },
  {
   "cell_type": "code",
   "execution_count": 21,
   "id": "a23022d9-66f9-4591-837b-01c23d25111a",
   "metadata": {},
   "outputs": [
    {
     "data": {
      "text/html": [
       "<div>\n",
       "<style scoped>\n",
       "    .dataframe tbody tr th:only-of-type {\n",
       "        vertical-align: middle;\n",
       "    }\n",
       "\n",
       "    .dataframe tbody tr th {\n",
       "        vertical-align: top;\n",
       "    }\n",
       "\n",
       "    .dataframe thead th {\n",
       "        text-align: right;\n",
       "    }\n",
       "</style>\n",
       "<table border=\"1\" class=\"dataframe\">\n",
       "  <thead>\n",
       "    <tr style=\"text-align: right;\">\n",
       "      <th></th>\n",
       "      <th>date</th>\n",
       "      <th>cs</th>\n",
       "    </tr>\n",
       "  </thead>\n",
       "  <tbody>\n",
       "    <tr>\n",
       "      <th>0</th>\n",
       "      <td>01-01-2003</td>\n",
       "      <td>128.461</td>\n",
       "    </tr>\n",
       "    <tr>\n",
       "      <th>1</th>\n",
       "      <td>01-02-2003</td>\n",
       "      <td>129.355</td>\n",
       "    </tr>\n",
       "    <tr>\n",
       "      <th>2</th>\n",
       "      <td>01-03-2003</td>\n",
       "      <td>130.148</td>\n",
       "    </tr>\n",
       "    <tr>\n",
       "      <th>3</th>\n",
       "      <td>01-04-2003</td>\n",
       "      <td>130.884</td>\n",
       "    </tr>\n",
       "    <tr>\n",
       "      <th>4</th>\n",
       "      <td>01-05-2003</td>\n",
       "      <td>131.734</td>\n",
       "    </tr>\n",
       "  </tbody>\n",
       "</table>\n",
       "</div>"
      ],
      "text/plain": [
       "         date       cs\n",
       "0  01-01-2003  128.461\n",
       "1  01-02-2003  129.355\n",
       "2  01-03-2003  130.148\n",
       "3  01-04-2003  130.884\n",
       "4  01-05-2003  131.734"
      ]
     },
     "execution_count": 21,
     "metadata": {},
     "output_type": "execute_result"
    }
   ],
   "source": [
    "cs.head()"
   ]
  },
  {
   "cell_type": "code",
   "execution_count": 22,
   "id": "73049840-953c-45ff-804a-500aea2e1317",
   "metadata": {},
   "outputs": [
    {
     "name": "stdout",
     "output_type": "stream",
     "text": [
      "<class 'pandas.core.frame.DataFrame'>\n",
      "RangeIndex: 240 entries, 0 to 239\n",
      "Data columns (total 2 columns):\n",
      " #   Column  Non-Null Count  Dtype  \n",
      "---  ------  --------------  -----  \n",
      " 0   date    240 non-null    object \n",
      " 1   cs      240 non-null    float64\n",
      "dtypes: float64(1), object(1)\n",
      "memory usage: 3.9+ KB\n"
     ]
    }
   ],
   "source": [
    "cs.info()"
   ]
  },
  {
   "cell_type": "code",
   "execution_count": 23,
   "id": "4b293dac-314f-4320-9327-c2ce7aab9861",
   "metadata": {},
   "outputs": [],
   "source": [
    "cs['date'] = pd.to_datetime(cs['date'], format='%d-%m-%Y')"
   ]
  },
  {
   "cell_type": "code",
   "execution_count": 24,
   "id": "147ace2a-35f1-4f41-9316-86f8d6882a6a",
   "metadata": {},
   "outputs": [],
   "source": [
    "cs['year'] = cs['date'].dt.year\n",
    "cs['month'] = cs['date'].dt.month"
   ]
  },
  {
   "cell_type": "code",
   "execution_count": 25,
   "id": "e3d359e4-0c88-480a-9177-ffff7983963b",
   "metadata": {},
   "outputs": [
    {
     "data": {
      "text/html": [
       "<div>\n",
       "<style scoped>\n",
       "    .dataframe tbody tr th:only-of-type {\n",
       "        vertical-align: middle;\n",
       "    }\n",
       "\n",
       "    .dataframe tbody tr th {\n",
       "        vertical-align: top;\n",
       "    }\n",
       "\n",
       "    .dataframe thead th {\n",
       "        text-align: right;\n",
       "    }\n",
       "</style>\n",
       "<table border=\"1\" class=\"dataframe\">\n",
       "  <thead>\n",
       "    <tr style=\"text-align: right;\">\n",
       "      <th></th>\n",
       "      <th>date</th>\n",
       "      <th>cs</th>\n",
       "      <th>year</th>\n",
       "      <th>month</th>\n",
       "    </tr>\n",
       "  </thead>\n",
       "  <tbody>\n",
       "    <tr>\n",
       "      <th>0</th>\n",
       "      <td>2003-01-01</td>\n",
       "      <td>128.461</td>\n",
       "      <td>2003</td>\n",
       "      <td>1</td>\n",
       "    </tr>\n",
       "    <tr>\n",
       "      <th>1</th>\n",
       "      <td>2003-02-01</td>\n",
       "      <td>129.355</td>\n",
       "      <td>2003</td>\n",
       "      <td>2</td>\n",
       "    </tr>\n",
       "    <tr>\n",
       "      <th>2</th>\n",
       "      <td>2003-03-01</td>\n",
       "      <td>130.148</td>\n",
       "      <td>2003</td>\n",
       "      <td>3</td>\n",
       "    </tr>\n",
       "    <tr>\n",
       "      <th>3</th>\n",
       "      <td>2003-04-01</td>\n",
       "      <td>130.884</td>\n",
       "      <td>2003</td>\n",
       "      <td>4</td>\n",
       "    </tr>\n",
       "    <tr>\n",
       "      <th>4</th>\n",
       "      <td>2003-05-01</td>\n",
       "      <td>131.734</td>\n",
       "      <td>2003</td>\n",
       "      <td>5</td>\n",
       "    </tr>\n",
       "  </tbody>\n",
       "</table>\n",
       "</div>"
      ],
      "text/plain": [
       "        date       cs  year  month\n",
       "0 2003-01-01  128.461  2003      1\n",
       "1 2003-02-01  129.355  2003      2\n",
       "2 2003-03-01  130.148  2003      3\n",
       "3 2003-04-01  130.884  2003      4\n",
       "4 2003-05-01  131.734  2003      5"
      ]
     },
     "execution_count": 25,
     "metadata": {},
     "output_type": "execute_result"
    }
   ],
   "source": [
    "cs.head()"
   ]
  },
  {
   "cell_type": "code",
   "execution_count": 26,
   "id": "62b863fe-e277-41a0-863a-8709ef320582",
   "metadata": {},
   "outputs": [],
   "source": [
    "cs.drop(columns=['date'], inplace=True)"
   ]
  },
  {
   "cell_type": "code",
   "execution_count": 27,
   "id": "fb346354-f461-4758-a73c-632992039385",
   "metadata": {},
   "outputs": [],
   "source": [
    "cs_yoy = cs[cs['month'] == 12][['cs', 'year']].reset_index(drop=True)"
   ]
  },
  {
   "cell_type": "code",
   "execution_count": 28,
   "id": "1dfb3b9d-2acd-4814-bae6-c8b78f676106",
   "metadata": {},
   "outputs": [
    {
     "data": {
      "image/png": "[encoded data removed]",
      "text/plain": [
       "<Figure size 700x500 with 1 Axes>"
      ]
     },
     "metadata": {},
     "output_type": "display_data"
    }
   ],
   "source": [
    "fig, ax = plt.subplots(nrows=1, ncols=1, figsize=(7, 5))\n",
    "\n",
    "ax.set_title('Case Shiller US National Home Price Index')\n",
    "\n",
    "ax.plot(cs_yoy['year'], cs_yoy['cs'])\n",
    "ax.set_xlabel('Year')\n",
    "ax.set_ylabel('Points')\n",
    "ax.set_xticks(cs_yoy['year'])\n",
    "ax.tick_params(axis='x', labelrotation=60)\n",
    "\n",
    "plt.show()"
   ]
  },
  {
   "cell_type": "code",
   "execution_count": 29,
   "id": "c5955d36-c8ef-47c6-9fbe-02d933aa91a6",
   "metadata": {},
   "outputs": [],
   "source": [
    "cs.to_csv('case-shiller.csv', index=False, header=True)"
   ]
  },
  {
   "cell_type": "markdown",
   "id": "fb207b06-263f-4965-bf22-abd8080f7ee8",
   "metadata": {},
   "source": [
    "## Inflation"
   ]
  },
  {
   "cell_type": "code",
   "execution_count": 30,
   "id": "743dd4c2-26e0-464c-a092-b07aa47cc3f4",
   "metadata": {},
   "outputs": [
    {
     "data": {
      "text/html": [
       "<div>\n",
       "<style scoped>\n",
       "    .dataframe tbody tr th:only-of-type {\n",
       "        vertical-align: middle;\n",
       "    }\n",
       "\n",
       "    .dataframe tbody tr th {\n",
       "        vertical-align: top;\n",
       "    }\n",
       "\n",
       "    .dataframe thead th {\n",
       "        text-align: right;\n",
       "    }\n",
       "</style>\n",
       "<table border=\"1\" class=\"dataframe\">\n",
       "  <thead>\n",
       "    <tr style=\"text-align: right;\">\n",
       "      <th></th>\n",
       "      <th>date</th>\n",
       "      <th>inf_rate</th>\n",
       "    </tr>\n",
       "  </thead>\n",
       "  <tbody>\n",
       "    <tr>\n",
       "      <th>0</th>\n",
       "      <td>31-12-2003</td>\n",
       "      <td>2.2701</td>\n",
       "    </tr>\n",
       "    <tr>\n",
       "      <th>1</th>\n",
       "      <td>31-12-2004</td>\n",
       "      <td>2.6772</td>\n",
       "    </tr>\n",
       "    <tr>\n",
       "      <th>2</th>\n",
       "      <td>31-12-2005</td>\n",
       "      <td>3.3927</td>\n",
       "    </tr>\n",
       "    <tr>\n",
       "      <th>3</th>\n",
       "      <td>31-12-2006</td>\n",
       "      <td>3.2259</td>\n",
       "    </tr>\n",
       "    <tr>\n",
       "      <th>4</th>\n",
       "      <td>31-12-2007</td>\n",
       "      <td>2.8527</td>\n",
       "    </tr>\n",
       "  </tbody>\n",
       "</table>\n",
       "</div>"
      ],
      "text/plain": [
       "         date  inf_rate\n",
       "0  31-12-2003    2.2701\n",
       "1  31-12-2004    2.6772\n",
       "2  31-12-2005    3.3927\n",
       "3  31-12-2006    3.2259\n",
       "4  31-12-2007    2.8527"
      ]
     },
     "execution_count": 30,
     "metadata": {},
     "output_type": "execute_result"
    }
   ],
   "source": [
    "infl.head()"
   ]
  },
  {
   "cell_type": "code",
   "execution_count": 31,
   "id": "bad68419-73d7-4437-a5ae-8864fc0907f0",
   "metadata": {},
   "outputs": [],
   "source": [
    "infl['date'] = pd.to_datetime(infl['date'], format='%d-%m-%Y')"
   ]
  },
  {
   "cell_type": "code",
   "execution_count": 32,
   "id": "5cf14acd-d40b-4d36-9c98-b33bb9803e1f",
   "metadata": {},
   "outputs": [
    {
     "name": "stdout",
     "output_type": "stream",
     "text": [
      "<class 'pandas.core.frame.DataFrame'>\n",
      "RangeIndex: 20 entries, 0 to 19\n",
      "Data columns (total 2 columns):\n",
      " #   Column    Non-Null Count  Dtype         \n",
      "---  ------    --------------  -----         \n",
      " 0   date      20 non-null     datetime64[ns]\n",
      " 1   inf_rate  20 non-null     float64       \n",
      "dtypes: datetime64[ns](1), float64(1)\n",
      "memory usage: 448.0 bytes\n"
     ]
    }
   ],
   "source": [
    "infl.info()"
   ]
  },
  {
   "cell_type": "code",
   "execution_count": 33,
   "id": "5e709996-1d31-4b97-80a1-9fffdcfd3da2",
   "metadata": {},
   "outputs": [],
   "source": [
    "infl['year'] = infl['date'].dt.year"
   ]
  },
  {
   "cell_type": "code",
   "execution_count": 34,
   "id": "dfd0c492-d6ee-4eff-a211-96fecfd38f3e",
   "metadata": {},
   "outputs": [
    {
     "data": {
      "text/html": [
       "<div>\n",
       "<style scoped>\n",
       "    .dataframe tbody tr th:only-of-type {\n",
       "        vertical-align: middle;\n",
       "    }\n",
       "\n",
       "    .dataframe tbody tr th {\n",
       "        vertical-align: top;\n",
       "    }\n",
       "\n",
       "    .dataframe thead th {\n",
       "        text-align: right;\n",
       "    }\n",
       "</style>\n",
       "<table border=\"1\" class=\"dataframe\">\n",
       "  <thead>\n",
       "    <tr style=\"text-align: right;\">\n",
       "      <th></th>\n",
       "      <th>date</th>\n",
       "      <th>inf_rate</th>\n",
       "      <th>year</th>\n",
       "    </tr>\n",
       "  </thead>\n",
       "  <tbody>\n",
       "    <tr>\n",
       "      <th>0</th>\n",
       "      <td>2003-12-31</td>\n",
       "      <td>2.2701</td>\n",
       "      <td>2003</td>\n",
       "    </tr>\n",
       "    <tr>\n",
       "      <th>1</th>\n",
       "      <td>2004-12-31</td>\n",
       "      <td>2.6772</td>\n",
       "      <td>2004</td>\n",
       "    </tr>\n",
       "    <tr>\n",
       "      <th>2</th>\n",
       "      <td>2005-12-31</td>\n",
       "      <td>3.3927</td>\n",
       "      <td>2005</td>\n",
       "    </tr>\n",
       "    <tr>\n",
       "      <th>3</th>\n",
       "      <td>2006-12-31</td>\n",
       "      <td>3.2259</td>\n",
       "      <td>2006</td>\n",
       "    </tr>\n",
       "    <tr>\n",
       "      <th>4</th>\n",
       "      <td>2007-12-31</td>\n",
       "      <td>2.8527</td>\n",
       "      <td>2007</td>\n",
       "    </tr>\n",
       "  </tbody>\n",
       "</table>\n",
       "</div>"
      ],
      "text/plain": [
       "        date  inf_rate  year\n",
       "0 2003-12-31    2.2701  2003\n",
       "1 2004-12-31    2.6772  2004\n",
       "2 2005-12-31    3.3927  2005\n",
       "3 2006-12-31    3.2259  2006\n",
       "4 2007-12-31    2.8527  2007"
      ]
     },
     "execution_count": 34,
     "metadata": {},
     "output_type": "execute_result"
    }
   ],
   "source": [
    "infl.head()"
   ]
  },
  {
   "cell_type": "code",
   "execution_count": 35,
   "id": "85e33b72-18d2-4cca-b469-88bfe3438178",
   "metadata": {},
   "outputs": [],
   "source": [
    "infl.drop(columns=['date'], inplace=True)"
   ]
  },
  {
   "cell_type": "code",
   "execution_count": 36,
   "id": "f4f71c9c-671b-4f99-a436-ac2430b55b24",
   "metadata": {},
   "outputs": [
    {
     "data": {
      "image/png": "[encoded data removed]",
      "text/plain": [
       "<Figure size 700x500 with 1 Axes>"
      ]
     },
     "metadata": {},
     "output_type": "display_data"
    }
   ],
   "source": [
    "fig, ax = plt.subplots(nrows=1, ncols=1, figsize=(7, 5))\n",
    "\n",
    "ax.set_title('Inflation Rate in US')\n",
    "\n",
    "ax.plot(infl['year'], infl['inf_rate'])\n",
    "ax.set_xlabel('Year')\n",
    "ax.set_ylabel('Inflation (%)')\n",
    "ax.set_xticks(infl['year'])\n",
    "ax.tick_params(axis='x', labelrotation=60)\n",
    "\n",
    "plt.show()"
   ]
  },
  {
   "cell_type": "code",
   "execution_count": 37,
   "id": "ab941f1b-0041-45d6-9480-cff9cde0e632",
   "metadata": {},
   "outputs": [],
   "source": [
    "infl.to_csv('inflation.csv', header=True, index=False)"
   ]
  },
  {
   "cell_type": "markdown",
   "id": "5fa72875-2b6a-41de-b1b7-c58b0f89cb48",
   "metadata": {},
   "source": [
    "## Mortgage"
   ]
  },
  {
   "cell_type": "code",
   "execution_count": 38,
   "id": "0354271c-5b97-4533-b842-a46fac6c8d78",
   "metadata": {},
   "outputs": [
    {
     "data": {
      "text/html": [
       "<div>\n",
       "<style scoped>\n",
       "    .dataframe tbody tr th:only-of-type {\n",
       "        vertical-align: middle;\n",
       "    }\n",
       "\n",
       "    .dataframe tbody tr th {\n",
       "        vertical-align: top;\n",
       "    }\n",
       "\n",
       "    .dataframe thead th {\n",
       "        text-align: right;\n",
       "    }\n",
       "</style>\n",
       "<table border=\"1\" class=\"dataframe\">\n",
       "  <thead>\n",
       "    <tr style=\"text-align: right;\">\n",
       "      <th></th>\n",
       "      <th>date</th>\n",
       "      <th>mortgage</th>\n",
       "    </tr>\n",
       "  </thead>\n",
       "  <tbody>\n",
       "    <tr>\n",
       "      <th>0</th>\n",
       "      <td>03-01-2003</td>\n",
       "      <td>5.85</td>\n",
       "    </tr>\n",
       "    <tr>\n",
       "      <th>1</th>\n",
       "      <td>10-01-2003</td>\n",
       "      <td>5.95</td>\n",
       "    </tr>\n",
       "    <tr>\n",
       "      <th>2</th>\n",
       "      <td>17-01-2003</td>\n",
       "      <td>5.97</td>\n",
       "    </tr>\n",
       "    <tr>\n",
       "      <th>3</th>\n",
       "      <td>24-01-2003</td>\n",
       "      <td>5.91</td>\n",
       "    </tr>\n",
       "    <tr>\n",
       "      <th>4</th>\n",
       "      <td>31-01-2003</td>\n",
       "      <td>5.90</td>\n",
       "    </tr>\n",
       "  </tbody>\n",
       "</table>\n",
       "</div>"
      ],
      "text/plain": [
       "         date  mortgage\n",
       "0  03-01-2003      5.85\n",
       "1  10-01-2003      5.95\n",
       "2  17-01-2003      5.97\n",
       "3  24-01-2003      5.91\n",
       "4  31-01-2003      5.90"
      ]
     },
     "execution_count": 38,
     "metadata": {},
     "output_type": "execute_result"
    }
   ],
   "source": [
    "mrtg.head()"
   ]
  },
  {
   "cell_type": "code",
   "execution_count": 39,
   "id": "a80c03df-6e7e-4c7e-adbc-4ff0664f83cb",
   "metadata": {},
   "outputs": [],
   "source": [
    "mrtg['date'] = pd.to_datetime(mrtg['date'], format='%d-%m-%Y')\n",
    "mrtg['year'] = mrtg['date'].dt.year\n",
    "mrtg['month'] = mrtg['date'].dt.month\n",
    "mrtg['day'] = mrtg['date'].dt.day"
   ]
  },
  {
   "cell_type": "code",
   "execution_count": 40,
   "id": "800096de-695e-4c00-b1ec-a38ea90ef508",
   "metadata": {},
   "outputs": [],
   "source": [
    "mrtg.drop(columns=['date'], inplace=True)"
   ]
  },
  {
   "cell_type": "code",
   "execution_count": 41,
   "id": "e5e553a8-d08c-4324-a668-8a06c64798e6",
   "metadata": {},
   "outputs": [],
   "source": [
    "mrtg_yoy = mrtg.groupby(['year'], as_index=False)['mortgage'].last()"
   ]
  },
  {
   "cell_type": "code",
   "execution_count": 42,
   "id": "fdc51cc1-1fc1-45d5-a672-c9ffed10ca8e",
   "metadata": {},
   "outputs": [
    {
     "data": {
      "image/png": "[encoded data removed]",
      "text/plain": [
       "<Figure size 700x500 with 1 Axes>"
      ]
     },
     "metadata": {},
     "output_type": "display_data"
    }
   ],
   "source": [
    "fig, ax = plt.subplots(nrows=1, ncols=1, figsize=(7, 5))\n",
    "\n",
    "ax.set_title('Mortgage Rate in US')\n",
    "\n",
    "ax.plot(mrtg_yoy['year'], mrtg_yoy['mortgage'])\n",
    "ax.set_xlabel('Year')\n",
    "ax.set_ylabel('Rate (%)')\n",
    "ax.set_xticks(mrtg_yoy['year'])\n",
    "ax.set_yticks(np.arange(2.5, 7.01, 0.5))\n",
    "ax.tick_params(axis='x', labelrotation=60)\n",
    "\n",
    "plt.show()"
   ]
  },
  {
   "cell_type": "code",
   "execution_count": 43,
   "id": "f40a9f8d-bba3-49fa-9339-a065af544b73",
   "metadata": {},
   "outputs": [],
   "source": [
    "mrtg.to_csv('mortgage.csv', header=True, index=False)"
   ]
  },
  {
   "cell_type": "markdown",
   "id": "ecee5f10-4459-4955-ae18-cda9bd866473",
   "metadata": {},
   "source": [
    "## Population"
   ]
  },
  {
   "cell_type": "code",
   "execution_count": 44,
   "id": "1b0ba683-15ce-4708-9446-bdfa5400f071",
   "metadata": {},
   "outputs": [
    {
     "data": {
      "text/html": [
       "<div>\n",
       "<style scoped>\n",
       "    .dataframe tbody tr th:only-of-type {\n",
       "        vertical-align: middle;\n",
       "    }\n",
       "\n",
       "    .dataframe tbody tr th {\n",
       "        vertical-align: top;\n",
       "    }\n",
       "\n",
       "    .dataframe thead th {\n",
       "        text-align: right;\n",
       "    }\n",
       "</style>\n",
       "<table border=\"1\" class=\"dataframe\">\n",
       "  <thead>\n",
       "    <tr style=\"text-align: right;\">\n",
       "      <th></th>\n",
       "      <th>date</th>\n",
       "      <th>population</th>\n",
       "    </tr>\n",
       "  </thead>\n",
       "  <tbody>\n",
       "    <tr>\n",
       "      <th>0</th>\n",
       "      <td>31-12-2003</td>\n",
       "      <td>291109820</td>\n",
       "    </tr>\n",
       "    <tr>\n",
       "      <th>1</th>\n",
       "      <td>31-12-2004</td>\n",
       "      <td>293947885</td>\n",
       "    </tr>\n",
       "    <tr>\n",
       "      <th>2</th>\n",
       "      <td>31-12-2005</td>\n",
       "      <td>296842670</td>\n",
       "    </tr>\n",
       "    <tr>\n",
       "      <th>3</th>\n",
       "      <td>31-12-2006</td>\n",
       "      <td>299753098</td>\n",
       "    </tr>\n",
       "    <tr>\n",
       "      <th>4</th>\n",
       "      <td>31-12-2007</td>\n",
       "      <td>302743399</td>\n",
       "    </tr>\n",
       "  </tbody>\n",
       "</table>\n",
       "</div>"
      ],
      "text/plain": [
       "         date   population\n",
       "0  31-12-2003    291109820\n",
       "1  31-12-2004    293947885\n",
       "2  31-12-2005    296842670\n",
       "3  31-12-2006    299753098\n",
       "4  31-12-2007    302743399"
      ]
     },
     "execution_count": 44,
     "metadata": {},
     "output_type": "execute_result"
    }
   ],
   "source": [
    "ppl.head()"
   ]
  },
  {
   "cell_type": "code",
   "execution_count": 45,
   "id": "d0a8ac9a-58dc-41cb-a7d2-995d77bf2764",
   "metadata": {},
   "outputs": [],
   "source": [
    "ppl['date'] = pd.to_datetime(ppl['date'], format='%d-%m-%Y')\n",
    "ppl['year'] = ppl['date'].dt.year"
   ]
  },
  {
   "cell_type": "code",
   "execution_count": 46,
   "id": "d8144456-70c0-483d-8989-c5ba1db2258b",
   "metadata": {},
   "outputs": [],
   "source": [
    "ppl['ppl_million'] = ppl[' population'] / 1_000_000"
   ]
  },
  {
   "cell_type": "code",
   "execution_count": 47,
   "id": "cc45e2ce-16aa-4dab-8fcd-690f2c1ba6f2",
   "metadata": {},
   "outputs": [],
   "source": [
    "ppl.drop(columns=['date', ' population'], inplace=True)"
   ]
  },
  {
   "cell_type": "code",
   "execution_count": 48,
   "id": "3197f9fa-6e7a-4a15-a458-b22df9b80b28",
   "metadata": {},
   "outputs": [
    {
     "data": {
      "image/png": "[encoded data removed]",
      "text/plain": [
       "<Figure size 700x500 with 1 Axes>"
      ]
     },
     "metadata": {},
     "output_type": "display_data"
    }
   ],
   "source": [
    "fig, ax = plt.subplots(nrows=1, ncols=1, figsize=(7, 5))\n",
    "\n",
    "ax.set_title('Population in US')\n",
    "\n",
    "ax.plot(ppl['year'], ppl['ppl_million'])\n",
    "ax.set_xlabel('Year')\n",
    "ax.set_ylabel('Population (Millions)')\n",
    "ax.set_xticks(ppl['year'])\n",
    "ax.tick_params(axis='x', labelrotation=60)\n",
    "\n",
    "plt.show()"
   ]
  },
  {
   "cell_type": "code",
   "execution_count": 49,
   "id": "71edc57f-b497-4966-9458-8fe89fdd2b4e",
   "metadata": {},
   "outputs": [],
   "source": [
    "ppl.to_csv('population.csv', header=True, index=False)"
   ]
  },
  {
   "cell_type": "markdown",
   "id": "c303345b-6c23-4d94-8bf4-42a8cb4f7b32",
   "metadata": {},
   "source": [
    "## Unemployment"
   ]
  },
  {
   "cell_type": "code",
   "execution_count": 50,
   "id": "532eab7a-8e07-41da-8a03-8d28dc4b4fcf",
   "metadata": {},
   "outputs": [
    {
     "data": {
      "text/html": [
       "<div>\n",
       "<style scoped>\n",
       "    .dataframe tbody tr th:only-of-type {\n",
       "        vertical-align: middle;\n",
       "    }\n",
       "\n",
       "    .dataframe tbody tr th {\n",
       "        vertical-align: top;\n",
       "    }\n",
       "\n",
       "    .dataframe thead th {\n",
       "        text-align: right;\n",
       "    }\n",
       "</style>\n",
       "<table border=\"1\" class=\"dataframe\">\n",
       "  <thead>\n",
       "    <tr style=\"text-align: right;\">\n",
       "      <th></th>\n",
       "      <th>date</th>\n",
       "      <th>unemp_rate</th>\n",
       "    </tr>\n",
       "  </thead>\n",
       "  <tbody>\n",
       "    <tr>\n",
       "      <th>0</th>\n",
       "      <td>31-12-2003</td>\n",
       "      <td>5.99</td>\n",
       "    </tr>\n",
       "    <tr>\n",
       "      <th>1</th>\n",
       "      <td>31-12-2004</td>\n",
       "      <td>5.53</td>\n",
       "    </tr>\n",
       "    <tr>\n",
       "      <th>2</th>\n",
       "      <td>31-12-2005</td>\n",
       "      <td>5.08</td>\n",
       "    </tr>\n",
       "    <tr>\n",
       "      <th>3</th>\n",
       "      <td>31-12-2006</td>\n",
       "      <td>4.62</td>\n",
       "    </tr>\n",
       "    <tr>\n",
       "      <th>4</th>\n",
       "      <td>31-12-2007</td>\n",
       "      <td>4.62</td>\n",
       "    </tr>\n",
       "  </tbody>\n",
       "</table>\n",
       "</div>"
      ],
      "text/plain": [
       "         date  unemp_rate\n",
       "0  31-12-2003        5.99\n",
       "1  31-12-2004        5.53\n",
       "2  31-12-2005        5.08\n",
       "3  31-12-2006        4.62\n",
       "4  31-12-2007        4.62"
      ]
     },
     "execution_count": 50,
     "metadata": {},
     "output_type": "execute_result"
    }
   ],
   "source": [
    "unemp.head()"
   ]
  },
  {
   "cell_type": "code",
   "execution_count": 51,
   "id": "bf069436-f662-4629-ae0b-e79c7bd7eeb3",
   "metadata": {},
   "outputs": [],
   "source": [
    "unemp['date'] = pd.to_datetime(unemp['date'], format='%d-%m-%Y')\n",
    "unemp['year'] = unemp['date'].dt.year"
   ]
  },
  {
   "cell_type": "code",
   "execution_count": 52,
   "id": "74eb41f0-52f6-4d88-9583-3a4b7bf323a0",
   "metadata": {},
   "outputs": [],
   "source": [
    "unemp.drop(columns=['date'], inplace=True)"
   ]
  },
  {
   "cell_type": "code",
   "execution_count": 53,
   "id": "a9ea7779-d377-49da-96b1-81ed3aa69b4f",
   "metadata": {},
   "outputs": [
    {
     "data": {
      "image/png": "[encoded data removed]",
      "text/plain": [
       "<Figure size 700x500 with 1 Axes>"
      ]
     },
     "metadata": {},
     "output_type": "display_data"
    }
   ],
   "source": [
    "fig, ax = plt.subplots(nrows=1, ncols=1, figsize=(7, 5))\n",
    "\n",
    "ax.set_title('Unemployment in US')\n",
    "\n",
    "ax.plot(unemp['year'], unemp['unemp_rate'])\n",
    "ax.set_xlabel('Year')\n",
    "ax.set_ylabel('Rate (%)')\n",
    "ax.set_xticks(unemp['year'])\n",
    "ax.tick_params(axis='x', labelrotation=60)\n",
    "\n",
    "plt.show()"
   ]
  },
  {
   "cell_type": "code",
   "execution_count": 54,
   "id": "5e8943b4-a876-4ff6-8240-da6340da0d89",
   "metadata": {},
   "outputs": [],
   "source": [
    "unemp.to_csv('unemployment.csv', header=True, index=False)"
   ]
  },
  {
   "cell_type": "markdown",
   "id": "08c3c1d6-9935-4fe1-8b70-27d0407455e6",
   "metadata": {},
   "source": [
    "## Median Income"
   ]
  },
  {
   "cell_type": "code",
   "execution_count": 55,
   "id": "e4df5948-9bad-464b-871c-2946b2ea172c",
   "metadata": {},
   "outputs": [
    {
     "data": {
      "text/html": [
       "<div>\n",
       "<style scoped>\n",
       "    .dataframe tbody tr th:only-of-type {\n",
       "        vertical-align: middle;\n",
       "    }\n",
       "\n",
       "    .dataframe tbody tr th {\n",
       "        vertical-align: top;\n",
       "    }\n",
       "\n",
       "    .dataframe thead th {\n",
       "        text-align: right;\n",
       "    }\n",
       "</style>\n",
       "<table border=\"1\" class=\"dataframe\">\n",
       "  <thead>\n",
       "    <tr style=\"text-align: right;\">\n",
       "      <th></th>\n",
       "      <th>date</th>\n",
       "      <th>median_income</th>\n",
       "    </tr>\n",
       "  </thead>\n",
       "  <tbody>\n",
       "    <tr>\n",
       "      <th>0</th>\n",
       "      <td>01-01-2003</td>\n",
       "      <td>65860</td>\n",
       "    </tr>\n",
       "    <tr>\n",
       "      <th>1</th>\n",
       "      <td>01-01-2004</td>\n",
       "      <td>65760</td>\n",
       "    </tr>\n",
       "    <tr>\n",
       "      <th>2</th>\n",
       "      <td>01-01-2005</td>\n",
       "      <td>66780</td>\n",
       "    </tr>\n",
       "    <tr>\n",
       "      <th>3</th>\n",
       "      <td>01-01-2006</td>\n",
       "      <td>67520</td>\n",
       "    </tr>\n",
       "    <tr>\n",
       "      <th>4</th>\n",
       "      <td>01-01-2007</td>\n",
       "      <td>68610</td>\n",
       "    </tr>\n",
       "  </tbody>\n",
       "</table>\n",
       "</div>"
      ],
      "text/plain": [
       "         date  median_income\n",
       "0  01-01-2003          65860\n",
       "1  01-01-2004          65760\n",
       "2  01-01-2005          66780\n",
       "3  01-01-2006          67520\n",
       "4  01-01-2007          68610"
      ]
     },
     "execution_count": 55,
     "metadata": {},
     "output_type": "execute_result"
    }
   ],
   "source": [
    "income.head()"
   ]
  },
  {
   "cell_type": "code",
   "execution_count": 56,
   "id": "9a7c7442-3968-4072-914d-6b302c5c0e0a",
   "metadata": {},
   "outputs": [],
   "source": [
    "income['year'] = pd.to_datetime(income['date']).dt.year"
   ]
  },
  {
   "cell_type": "code",
   "execution_count": 57,
   "id": "e450c22a-86ba-4aae-bd34-2d6c28ee8a00",
   "metadata": {},
   "outputs": [],
   "source": [
    "income.drop(columns=['date'], inplace=True)"
   ]
  },
  {
   "cell_type": "code",
   "execution_count": 58,
   "id": "e8957f70-836a-4910-bcc8-689c17ef2007",
   "metadata": {},
   "outputs": [
    {
     "data": {
      "image/png": "[encoded data removed]",
      "text/plain": [
       "<Figure size 700x500 with 1 Axes>"
      ]
     },
     "metadata": {},
     "output_type": "display_data"
    }
   ],
   "source": [
    "fig, ax = plt.subplots(nrows=1, ncols=1, figsize=(7, 5))\n",
    "\n",
    "ax.set_title('Median Income in US')\n",
    "\n",
    "ax.plot(income['year'], income['median_income'])\n",
    "ax.set_xlabel('Year')\n",
    "ax.set_ylabel('Income ($)')\n",
    "ax.set_xticks(income['year'])\n",
    "ax.tick_params(axis='x', labelrotation=60)\n",
    "\n",
    "plt.show()"
   ]
  },
  {
   "cell_type": "code",
   "execution_count": 59,
   "id": "622067ea-2032-4c61-9212-303f77d08e19",
   "metadata": {},
   "outputs": [],
   "source": [
    "income.to_csv('median-income.csv', header=True, index=False)"
   ]
  },
  {
   "cell_type": "markdown",
   "id": "d2b83d91-00c4-432f-8315-bf0741e89fe1",
   "metadata": {},
   "source": [
    "## Homeownership Rate"
   ]
  },
  {
   "cell_type": "code",
   "execution_count": 60,
   "id": "7b5ae5d6-eeda-4663-89ec-747d109e7396",
   "metadata": {},
   "outputs": [
    {
     "data": {
      "text/html": [
       "<div>\n",
       "<style scoped>\n",
       "    .dataframe tbody tr th:only-of-type {\n",
       "        vertical-align: middle;\n",
       "    }\n",
       "\n",
       "    .dataframe tbody tr th {\n",
       "        vertical-align: top;\n",
       "    }\n",
       "\n",
       "    .dataframe thead th {\n",
       "        text-align: right;\n",
       "    }\n",
       "</style>\n",
       "<table border=\"1\" class=\"dataframe\">\n",
       "  <thead>\n",
       "    <tr style=\"text-align: right;\">\n",
       "      <th></th>\n",
       "      <th>date</th>\n",
       "      <th>ownership_rate</th>\n",
       "    </tr>\n",
       "  </thead>\n",
       "  <tbody>\n",
       "    <tr>\n",
       "      <th>0</th>\n",
       "      <td>01-01-2003</td>\n",
       "      <td>68.0</td>\n",
       "    </tr>\n",
       "    <tr>\n",
       "      <th>1</th>\n",
       "      <td>01-04-2003</td>\n",
       "      <td>68.0</td>\n",
       "    </tr>\n",
       "    <tr>\n",
       "      <th>2</th>\n",
       "      <td>01-07-2003</td>\n",
       "      <td>68.4</td>\n",
       "    </tr>\n",
       "    <tr>\n",
       "      <th>3</th>\n",
       "      <td>01-10-2003</td>\n",
       "      <td>68.6</td>\n",
       "    </tr>\n",
       "    <tr>\n",
       "      <th>4</th>\n",
       "      <td>01-01-2004</td>\n",
       "      <td>68.6</td>\n",
       "    </tr>\n",
       "  </tbody>\n",
       "</table>\n",
       "</div>"
      ],
      "text/plain": [
       "         date  ownership_rate\n",
       "0  01-01-2003            68.0\n",
       "1  01-04-2003            68.0\n",
       "2  01-07-2003            68.4\n",
       "3  01-10-2003            68.6\n",
       "4  01-01-2004            68.6"
      ]
     },
     "execution_count": 60,
     "metadata": {},
     "output_type": "execute_result"
    }
   ],
   "source": [
    "owner.head()"
   ]
  },
  {
   "cell_type": "code",
   "execution_count": 61,
   "id": "7dfcc846-dafa-4225-b1af-540dc924bde3",
   "metadata": {},
   "outputs": [],
   "source": [
    "owner['date'] = pd.to_datetime(owner['date'])"
   ]
  },
  {
   "cell_type": "code",
   "execution_count": 62,
   "id": "ba1701c1-3cec-466d-9d10-240666c5a976",
   "metadata": {},
   "outputs": [],
   "source": [
    "owner['year'] = owner['date'].dt.year\n",
    "owner['month'] = owner['date'].dt.month\n",
    "owner['day'] = owner['date'].dt.day"
   ]
  },
  {
   "cell_type": "code",
   "execution_count": 63,
   "id": "c8b09428-ec62-40ac-8bc2-8ccb5ab6f99b",
   "metadata": {},
   "outputs": [],
   "source": [
    "owner.drop(columns=['date'], inplace=True)"
   ]
  },
  {
   "cell_type": "code",
   "execution_count": 64,
   "id": "6157e8d1-d952-450b-b49b-0d8d37b54cb3",
   "metadata": {},
   "outputs": [],
   "source": [
    "owner_yoy = owner.groupby(['year'], as_index=False)['ownership_rate'].last()"
   ]
  },
  {
   "cell_type": "code",
   "execution_count": 65,
   "id": "9fe8915e-2051-4c7c-826a-b52cbd001841",
   "metadata": {},
   "outputs": [
    {
     "data": {
      "image/png": "[encoded data removed]",
      "text/plain": [
       "<Figure size 700x500 with 1 Axes>"
      ]
     },
     "metadata": {},
     "output_type": "display_data"
    }
   ],
   "source": [
    "fig, ax = plt.subplots(nrows=1, ncols=1, figsize=(7, 5))\n",
    "\n",
    "ax.set_title('Homeownership Rate in US')\n",
    "\n",
    "ax.plot(owner_yoy['year'], owner_yoy['ownership_rate'])\n",
    "ax.set_xlabel('Year')\n",
    "ax.set_ylabel('Rate (%)')\n",
    "ax.set_xticks(owner_yoy['year'])\n",
    "ax.tick_params(axis='x', labelrotation=60)\n",
    "\n",
    "plt.show()"
   ]
  },
  {
   "cell_type": "code",
   "execution_count": 66,
   "id": "e1a71eea-3303-461d-8096-78c2008e751c",
   "metadata": {},
   "outputs": [],
   "source": [
    "owner.to_csv('homeownership-rate.csv', header=True, index=False)"
   ]
  },
  {
   "cell_type": "markdown",
   "id": "4d1d5184-d3ae-4067-9cc7-5a6ecabe6406",
   "metadata": {},
   "source": [
    "## Merging all the Data\n",
    "\n",
    "Data wrangling is done. Now merging all the data."
   ]
  },
  {
   "cell_type": "code",
   "execution_count": 67,
   "id": "2527fe3b-b0af-40e3-9907-6bfc5e7a757c",
   "metadata": {},
   "outputs": [],
   "source": [
    "df = pd.merge(gdp, immig, on='year', how='inner')\\\n",
    ".merge(infl, on='year', how='inner')\\\n",
    ".merge(mrtg, on='year', how='inner', suffixes=['_avg', '_mrtg'])\\\n",
    ".merge(ppl, on='year', how='inner')\\\n",
    ".merge(unemp, on='year', how='inner')\\\n",
    ".merge(owner, on='year', how='inner', suffixes=['_mrtg', '_owner'])\\\n",
    ".merge(income, on='year', how='inner')\\\n",
    ".merge(cs, on='year', how='inner', suffixes=['_owner', '_cs'])"
   ]
  },
  {
   "cell_type": "code",
   "execution_count": 68,
   "id": "af12ee71-4003-4db4-98fc-40c1819973e8",
   "metadata": {},
   "outputs": [
    {
     "data": {
      "text/plain": [
       "Index(['gdp_billion', 'gdp_per_capita', 'year', 'immigrants_million',\n",
       "       'inf_rate', 'mortgage', 'month_mrtg', 'day_mrtg', 'ppl_million',\n",
       "       'unemp_rate', 'ownership_rate', 'month_owner', 'day_owner',\n",
       "       'median_income', 'cs', 'month'],\n",
       "      dtype='object')"
      ]
     },
     "execution_count": 68,
     "metadata": {},
     "output_type": "execute_result"
    }
   ],
   "source": [
    "df.columns"
   ]
  },
  {
   "cell_type": "code",
   "execution_count": 69,
   "id": "5efbfdd6-e04f-4d52-bed5-43d5aac91422",
   "metadata": {},
   "outputs": [
    {
     "data": {
      "text/html": [
       "<div>\n",
       "<style scoped>\n",
       "    .dataframe tbody tr th:only-of-type {\n",
       "        vertical-align: middle;\n",
       "    }\n",
       "\n",
       "    .dataframe tbody tr th {\n",
       "        vertical-align: top;\n",
       "    }\n",
       "\n",
       "    .dataframe thead th {\n",
       "        text-align: right;\n",
       "    }\n",
       "</style>\n",
       "<table border=\"1\" class=\"dataframe\">\n",
       "  <thead>\n",
       "    <tr style=\"text-align: right;\">\n",
       "      <th></th>\n",
       "      <th>gdp_billion</th>\n",
       "      <th>gdp_per_capita</th>\n",
       "      <th>year</th>\n",
       "      <th>immigrants_million</th>\n",
       "      <th>inf_rate</th>\n",
       "      <th>mortgage</th>\n",
       "      <th>month_mrtg</th>\n",
       "      <th>day_mrtg</th>\n",
       "      <th>ppl_million</th>\n",
       "      <th>unemp_rate</th>\n",
       "      <th>ownership_rate</th>\n",
       "      <th>month_owner</th>\n",
       "      <th>day_owner</th>\n",
       "      <th>median_income</th>\n",
       "      <th>cs</th>\n",
       "      <th>month</th>\n",
       "    </tr>\n",
       "  </thead>\n",
       "  <tbody>\n",
       "    <tr>\n",
       "      <th>0</th>\n",
       "      <td>11456.44204</td>\n",
       "      <td>39490.275</td>\n",
       "      <td>2003</td>\n",
       "      <td>31.9552</td>\n",
       "      <td>2.2701</td>\n",
       "      <td>5.85</td>\n",
       "      <td>1</td>\n",
       "      <td>3</td>\n",
       "      <td>291.10982</td>\n",
       "      <td>5.99</td>\n",
       "      <td>68.0</td>\n",
       "      <td>1</td>\n",
       "      <td>1</td>\n",
       "      <td>65860</td>\n",
       "      <td>128.461</td>\n",
       "      <td>1</td>\n",
       "    </tr>\n",
       "    <tr>\n",
       "      <th>1</th>\n",
       "      <td>11456.44204</td>\n",
       "      <td>39490.275</td>\n",
       "      <td>2003</td>\n",
       "      <td>31.9552</td>\n",
       "      <td>2.2701</td>\n",
       "      <td>5.85</td>\n",
       "      <td>1</td>\n",
       "      <td>3</td>\n",
       "      <td>291.10982</td>\n",
       "      <td>5.99</td>\n",
       "      <td>68.0</td>\n",
       "      <td>1</td>\n",
       "      <td>1</td>\n",
       "      <td>65860</td>\n",
       "      <td>129.355</td>\n",
       "      <td>2</td>\n",
       "    </tr>\n",
       "    <tr>\n",
       "      <th>2</th>\n",
       "      <td>11456.44204</td>\n",
       "      <td>39490.275</td>\n",
       "      <td>2003</td>\n",
       "      <td>31.9552</td>\n",
       "      <td>2.2701</td>\n",
       "      <td>5.85</td>\n",
       "      <td>1</td>\n",
       "      <td>3</td>\n",
       "      <td>291.10982</td>\n",
       "      <td>5.99</td>\n",
       "      <td>68.0</td>\n",
       "      <td>1</td>\n",
       "      <td>1</td>\n",
       "      <td>65860</td>\n",
       "      <td>130.148</td>\n",
       "      <td>3</td>\n",
       "    </tr>\n",
       "    <tr>\n",
       "      <th>3</th>\n",
       "      <td>11456.44204</td>\n",
       "      <td>39490.275</td>\n",
       "      <td>2003</td>\n",
       "      <td>31.9552</td>\n",
       "      <td>2.2701</td>\n",
       "      <td>5.85</td>\n",
       "      <td>1</td>\n",
       "      <td>3</td>\n",
       "      <td>291.10982</td>\n",
       "      <td>5.99</td>\n",
       "      <td>68.0</td>\n",
       "      <td>1</td>\n",
       "      <td>1</td>\n",
       "      <td>65860</td>\n",
       "      <td>130.884</td>\n",
       "      <td>4</td>\n",
       "    </tr>\n",
       "    <tr>\n",
       "      <th>4</th>\n",
       "      <td>11456.44204</td>\n",
       "      <td>39490.275</td>\n",
       "      <td>2003</td>\n",
       "      <td>31.9552</td>\n",
       "      <td>2.2701</td>\n",
       "      <td>5.85</td>\n",
       "      <td>1</td>\n",
       "      <td>3</td>\n",
       "      <td>291.10982</td>\n",
       "      <td>5.99</td>\n",
       "      <td>68.0</td>\n",
       "      <td>1</td>\n",
       "      <td>1</td>\n",
       "      <td>65860</td>\n",
       "      <td>131.734</td>\n",
       "      <td>5</td>\n",
       "    </tr>\n",
       "  </tbody>\n",
       "</table>\n",
       "</div>"
      ],
      "text/plain": [
       "   gdp_billion  gdp_per_capita  year  immigrants_million  inf_rate  mortgage  \\\n",
       "0  11456.44204       39490.275  2003             31.9552    2.2701      5.85   \n",
       "1  11456.44204       39490.275  2003             31.9552    2.2701      5.85   \n",
       "2  11456.44204       39490.275  2003             31.9552    2.2701      5.85   \n",
       "3  11456.44204       39490.275  2003             31.9552    2.2701      5.85   \n",
       "4  11456.44204       39490.275  2003             31.9552    2.2701      5.85   \n",
       "\n",
       "   month_mrtg  day_mrtg  ppl_million  unemp_rate  ownership_rate  month_owner  \\\n",
       "0           1         3    291.10982        5.99            68.0            1   \n",
       "1           1         3    291.10982        5.99            68.0            1   \n",
       "2           1         3    291.10982        5.99            68.0            1   \n",
       "3           1         3    291.10982        5.99            68.0            1   \n",
       "4           1         3    291.10982        5.99            68.0            1   \n",
       "\n",
       "   day_owner  median_income       cs  month  \n",
       "0          1          65860  128.461      1  \n",
       "1          1          65860  129.355      2  \n",
       "2          1          65860  130.148      3  \n",
       "3          1          65860  130.884      4  \n",
       "4          1          65860  131.734      5  "
      ]
     },
     "execution_count": 69,
     "metadata": {},
     "output_type": "execute_result"
    }
   ],
   "source": [
    "df.head()"
   ]
  },
  {
   "cell_type": "code",
   "execution_count": 70,
   "id": "86e9f102-2c83-4ff9-9857-0af0029e810b",
   "metadata": {},
   "outputs": [],
   "source": [
    "df.columns = ['gdp_billion', 'gdp_per_capita', 'year',\n",
    "       'immigrants_million', 'inflation_rate', 'mortgage', 'mortgage_month', 'mortgage_day',\n",
    "        'population_million', 'unemp_rate', 'ownership_rate', 'ownership_month',\n",
    "       'ownership_day', 'median_income', 'case_shiller_value', 'case_shiller_month']"
   ]
  },
  {
   "cell_type": "code",
   "execution_count": 71,
   "id": "51157f90-143e-4d72-bc75-fc1845dd3f69",
   "metadata": {},
   "outputs": [],
   "source": [
    "df = df[['ownership_day', 'mortgage_day', 'ownership_month', 'mortgage_month', 'case_shiller_month', 'year', \n",
    "         'gdp_billion', 'gdp_per_capita', 'population_million', 'immigrants_million', 'ownership_rate', 'median_income',\n",
    "         'inflation_rate', 'mortgage', 'unemp_rate', 'case_shiller_value']]"
   ]
  },
  {
   "cell_type": "code",
   "execution_count": 72,
   "id": "172fbcf2-07a8-47c9-a3fd-3256ac4238e7",
   "metadata": {},
   "outputs": [
    {
     "data": {
      "text/html": [
       "<div>\n",
       "<style scoped>\n",
       "    .dataframe tbody tr th:only-of-type {\n",
       "        vertical-align: middle;\n",
       "    }\n",
       "\n",
       "    .dataframe tbody tr th {\n",
       "        vertical-align: top;\n",
       "    }\n",
       "\n",
       "    .dataframe thead th {\n",
       "        text-align: right;\n",
       "    }\n",
       "</style>\n",
       "<table border=\"1\" class=\"dataframe\">\n",
       "  <thead>\n",
       "    <tr style=\"text-align: right;\">\n",
       "      <th></th>\n",
       "      <th>ownership_day</th>\n",
       "      <th>mortgage_day</th>\n",
       "      <th>ownership_month</th>\n",
       "      <th>mortgage_month</th>\n",
       "      <th>case_shiller_month</th>\n",
       "      <th>year</th>\n",
       "      <th>gdp_billion</th>\n",
       "      <th>gdp_per_capita</th>\n",
       "      <th>population_million</th>\n",
       "      <th>immigrants_million</th>\n",
       "      <th>ownership_rate</th>\n",
       "      <th>median_income</th>\n",
       "      <th>inflation_rate</th>\n",
       "      <th>mortgage</th>\n",
       "      <th>unemp_rate</th>\n",
       "      <th>case_shiller_value</th>\n",
       "    </tr>\n",
       "  </thead>\n",
       "  <tbody>\n",
       "    <tr>\n",
       "      <th>0</th>\n",
       "      <td>1</td>\n",
       "      <td>3</td>\n",
       "      <td>1</td>\n",
       "      <td>1</td>\n",
       "      <td>1</td>\n",
       "      <td>2003</td>\n",
       "      <td>11456.44204</td>\n",
       "      <td>39490.275</td>\n",
       "      <td>291.10982</td>\n",
       "      <td>31.9552</td>\n",
       "      <td>68.0</td>\n",
       "      <td>65860</td>\n",
       "      <td>2.2701</td>\n",
       "      <td>5.85</td>\n",
       "      <td>5.99</td>\n",
       "      <td>128.461</td>\n",
       "    </tr>\n",
       "    <tr>\n",
       "      <th>1</th>\n",
       "      <td>1</td>\n",
       "      <td>3</td>\n",
       "      <td>1</td>\n",
       "      <td>1</td>\n",
       "      <td>2</td>\n",
       "      <td>2003</td>\n",
       "      <td>11456.44204</td>\n",
       "      <td>39490.275</td>\n",
       "      <td>291.10982</td>\n",
       "      <td>31.9552</td>\n",
       "      <td>68.0</td>\n",
       "      <td>65860</td>\n",
       "      <td>2.2701</td>\n",
       "      <td>5.85</td>\n",
       "      <td>5.99</td>\n",
       "      <td>129.355</td>\n",
       "    </tr>\n",
       "    <tr>\n",
       "      <th>2</th>\n",
       "      <td>1</td>\n",
       "      <td>3</td>\n",
       "      <td>1</td>\n",
       "      <td>1</td>\n",
       "      <td>3</td>\n",
       "      <td>2003</td>\n",
       "      <td>11456.44204</td>\n",
       "      <td>39490.275</td>\n",
       "      <td>291.10982</td>\n",
       "      <td>31.9552</td>\n",
       "      <td>68.0</td>\n",
       "      <td>65860</td>\n",
       "      <td>2.2701</td>\n",
       "      <td>5.85</td>\n",
       "      <td>5.99</td>\n",
       "      <td>130.148</td>\n",
       "    </tr>\n",
       "    <tr>\n",
       "      <th>3</th>\n",
       "      <td>1</td>\n",
       "      <td>3</td>\n",
       "      <td>1</td>\n",
       "      <td>1</td>\n",
       "      <td>4</td>\n",
       "      <td>2003</td>\n",
       "      <td>11456.44204</td>\n",
       "      <td>39490.275</td>\n",
       "      <td>291.10982</td>\n",
       "      <td>31.9552</td>\n",
       "      <td>68.0</td>\n",
       "      <td>65860</td>\n",
       "      <td>2.2701</td>\n",
       "      <td>5.85</td>\n",
       "      <td>5.99</td>\n",
       "      <td>130.884</td>\n",
       "    </tr>\n",
       "    <tr>\n",
       "      <th>4</th>\n",
       "      <td>1</td>\n",
       "      <td>3</td>\n",
       "      <td>1</td>\n",
       "      <td>1</td>\n",
       "      <td>5</td>\n",
       "      <td>2003</td>\n",
       "      <td>11456.44204</td>\n",
       "      <td>39490.275</td>\n",
       "      <td>291.10982</td>\n",
       "      <td>31.9552</td>\n",
       "      <td>68.0</td>\n",
       "      <td>65860</td>\n",
       "      <td>2.2701</td>\n",
       "      <td>5.85</td>\n",
       "      <td>5.99</td>\n",
       "      <td>131.734</td>\n",
       "    </tr>\n",
       "    <tr>\n",
       "      <th>5</th>\n",
       "      <td>1</td>\n",
       "      <td>3</td>\n",
       "      <td>1</td>\n",
       "      <td>1</td>\n",
       "      <td>6</td>\n",
       "      <td>2003</td>\n",
       "      <td>11456.44204</td>\n",
       "      <td>39490.275</td>\n",
       "      <td>291.10982</td>\n",
       "      <td>31.9552</td>\n",
       "      <td>68.0</td>\n",
       "      <td>65860</td>\n",
       "      <td>2.2701</td>\n",
       "      <td>5.85</td>\n",
       "      <td>5.99</td>\n",
       "      <td>132.649</td>\n",
       "    </tr>\n",
       "    <tr>\n",
       "      <th>6</th>\n",
       "      <td>1</td>\n",
       "      <td>3</td>\n",
       "      <td>1</td>\n",
       "      <td>1</td>\n",
       "      <td>7</td>\n",
       "      <td>2003</td>\n",
       "      <td>11456.44204</td>\n",
       "      <td>39490.275</td>\n",
       "      <td>291.10982</td>\n",
       "      <td>31.9552</td>\n",
       "      <td>68.0</td>\n",
       "      <td>65860</td>\n",
       "      <td>2.2701</td>\n",
       "      <td>5.85</td>\n",
       "      <td>5.99</td>\n",
       "      <td>133.777</td>\n",
       "    </tr>\n",
       "    <tr>\n",
       "      <th>7</th>\n",
       "      <td>1</td>\n",
       "      <td>3</td>\n",
       "      <td>1</td>\n",
       "      <td>1</td>\n",
       "      <td>8</td>\n",
       "      <td>2003</td>\n",
       "      <td>11456.44204</td>\n",
       "      <td>39490.275</td>\n",
       "      <td>291.10982</td>\n",
       "      <td>31.9552</td>\n",
       "      <td>68.0</td>\n",
       "      <td>65860</td>\n",
       "      <td>2.2701</td>\n",
       "      <td>5.85</td>\n",
       "      <td>5.99</td>\n",
       "      <td>134.969</td>\n",
       "    </tr>\n",
       "    <tr>\n",
       "      <th>8</th>\n",
       "      <td>1</td>\n",
       "      <td>3</td>\n",
       "      <td>1</td>\n",
       "      <td>1</td>\n",
       "      <td>9</td>\n",
       "      <td>2003</td>\n",
       "      <td>11456.44204</td>\n",
       "      <td>39490.275</td>\n",
       "      <td>291.10982</td>\n",
       "      <td>31.9552</td>\n",
       "      <td>68.0</td>\n",
       "      <td>65860</td>\n",
       "      <td>2.2701</td>\n",
       "      <td>5.85</td>\n",
       "      <td>5.99</td>\n",
       "      <td>136.294</td>\n",
       "    </tr>\n",
       "    <tr>\n",
       "      <th>9</th>\n",
       "      <td>1</td>\n",
       "      <td>3</td>\n",
       "      <td>1</td>\n",
       "      <td>1</td>\n",
       "      <td>10</td>\n",
       "      <td>2003</td>\n",
       "      <td>11456.44204</td>\n",
       "      <td>39490.275</td>\n",
       "      <td>291.10982</td>\n",
       "      <td>31.9552</td>\n",
       "      <td>68.0</td>\n",
       "      <td>65860</td>\n",
       "      <td>2.2701</td>\n",
       "      <td>5.85</td>\n",
       "      <td>5.99</td>\n",
       "      <td>137.532</td>\n",
       "    </tr>\n",
       "    <tr>\n",
       "      <th>10</th>\n",
       "      <td>1</td>\n",
       "      <td>3</td>\n",
       "      <td>1</td>\n",
       "      <td>1</td>\n",
       "      <td>11</td>\n",
       "      <td>2003</td>\n",
       "      <td>11456.44204</td>\n",
       "      <td>39490.275</td>\n",
       "      <td>291.10982</td>\n",
       "      <td>31.9552</td>\n",
       "      <td>68.0</td>\n",
       "      <td>65860</td>\n",
       "      <td>2.2701</td>\n",
       "      <td>5.85</td>\n",
       "      <td>5.99</td>\n",
       "      <td>138.794</td>\n",
       "    </tr>\n",
       "    <tr>\n",
       "      <th>11</th>\n",
       "      <td>1</td>\n",
       "      <td>3</td>\n",
       "      <td>1</td>\n",
       "      <td>1</td>\n",
       "      <td>12</td>\n",
       "      <td>2003</td>\n",
       "      <td>11456.44204</td>\n",
       "      <td>39490.275</td>\n",
       "      <td>291.10982</td>\n",
       "      <td>31.9552</td>\n",
       "      <td>68.0</td>\n",
       "      <td>65860</td>\n",
       "      <td>2.2701</td>\n",
       "      <td>5.85</td>\n",
       "      <td>5.99</td>\n",
       "      <td>140.179</td>\n",
       "    </tr>\n",
       "    <tr>\n",
       "      <th>12</th>\n",
       "      <td>4</td>\n",
       "      <td>3</td>\n",
       "      <td>1</td>\n",
       "      <td>1</td>\n",
       "      <td>1</td>\n",
       "      <td>2003</td>\n",
       "      <td>11456.44204</td>\n",
       "      <td>39490.275</td>\n",
       "      <td>291.10982</td>\n",
       "      <td>31.9552</td>\n",
       "      <td>68.0</td>\n",
       "      <td>65860</td>\n",
       "      <td>2.2701</td>\n",
       "      <td>5.85</td>\n",
       "      <td>5.99</td>\n",
       "      <td>128.461</td>\n",
       "    </tr>\n",
       "    <tr>\n",
       "      <th>13</th>\n",
       "      <td>4</td>\n",
       "      <td>3</td>\n",
       "      <td>1</td>\n",
       "      <td>1</td>\n",
       "      <td>2</td>\n",
       "      <td>2003</td>\n",
       "      <td>11456.44204</td>\n",
       "      <td>39490.275</td>\n",
       "      <td>291.10982</td>\n",
       "      <td>31.9552</td>\n",
       "      <td>68.0</td>\n",
       "      <td>65860</td>\n",
       "      <td>2.2701</td>\n",
       "      <td>5.85</td>\n",
       "      <td>5.99</td>\n",
       "      <td>129.355</td>\n",
       "    </tr>\n",
       "    <tr>\n",
       "      <th>14</th>\n",
       "      <td>4</td>\n",
       "      <td>3</td>\n",
       "      <td>1</td>\n",
       "      <td>1</td>\n",
       "      <td>3</td>\n",
       "      <td>2003</td>\n",
       "      <td>11456.44204</td>\n",
       "      <td>39490.275</td>\n",
       "      <td>291.10982</td>\n",
       "      <td>31.9552</td>\n",
       "      <td>68.0</td>\n",
       "      <td>65860</td>\n",
       "      <td>2.2701</td>\n",
       "      <td>5.85</td>\n",
       "      <td>5.99</td>\n",
       "      <td>130.148</td>\n",
       "    </tr>\n",
       "  </tbody>\n",
       "</table>\n",
       "</div>"
      ],
      "text/plain": [
       "    ownership_day  mortgage_day  ownership_month  mortgage_month  \\\n",
       "0               1             3                1               1   \n",
       "1               1             3                1               1   \n",
       "2               1             3                1               1   \n",
       "3               1             3                1               1   \n",
       "4               1             3                1               1   \n",
       "5               1             3                1               1   \n",
       "6               1             3                1               1   \n",
       "7               1             3                1               1   \n",
       "8               1             3                1               1   \n",
       "9               1             3                1               1   \n",
       "10              1             3                1               1   \n",
       "11              1             3                1               1   \n",
       "12              4             3                1               1   \n",
       "13              4             3                1               1   \n",
       "14              4             3                1               1   \n",
       "\n",
       "    case_shiller_month  year  gdp_billion  gdp_per_capita  population_million  \\\n",
       "0                    1  2003  11456.44204       39490.275           291.10982   \n",
       "1                    2  2003  11456.44204       39490.275           291.10982   \n",
       "2                    3  2003  11456.44204       39490.275           291.10982   \n",
       "3                    4  2003  11456.44204       39490.275           291.10982   \n",
       "4                    5  2003  11456.44204       39490.275           291.10982   \n",
       "5                    6  2003  11456.44204       39490.275           291.10982   \n",
       "6                    7  2003  11456.44204       39490.275           291.10982   \n",
       "7                    8  2003  11456.44204       39490.275           291.10982   \n",
       "8                    9  2003  11456.44204       39490.275           291.10982   \n",
       "9                   10  2003  11456.44204       39490.275           291.10982   \n",
       "10                  11  2003  11456.44204       39490.275           291.10982   \n",
       "11                  12  2003  11456.44204       39490.275           291.10982   \n",
       "12                   1  2003  11456.44204       39490.275           291.10982   \n",
       "13                   2  2003  11456.44204       39490.275           291.10982   \n",
       "14                   3  2003  11456.44204       39490.275           291.10982   \n",
       "\n",
       "    immigrants_million  ownership_rate  median_income  inflation_rate  \\\n",
       "0              31.9552            68.0          65860          2.2701   \n",
       "1              31.9552            68.0          65860          2.2701   \n",
       "2              31.9552            68.0          65860          2.2701   \n",
       "3              31.9552            68.0          65860          2.2701   \n",
       "4              31.9552            68.0          65860          2.2701   \n",
       "5              31.9552            68.0          65860          2.2701   \n",
       "6              31.9552            68.0          65860          2.2701   \n",
       "7              31.9552            68.0          65860          2.2701   \n",
       "8              31.9552            68.0          65860          2.2701   \n",
       "9              31.9552            68.0          65860          2.2701   \n",
       "10             31.9552            68.0          65860          2.2701   \n",
       "11             31.9552            68.0          65860          2.2701   \n",
       "12             31.9552            68.0          65860          2.2701   \n",
       "13             31.9552            68.0          65860          2.2701   \n",
       "14             31.9552            68.0          65860          2.2701   \n",
       "\n",
       "    mortgage  unemp_rate  case_shiller_value  \n",
       "0       5.85        5.99             128.461  \n",
       "1       5.85        5.99             129.355  \n",
       "2       5.85        5.99             130.148  \n",
       "3       5.85        5.99             130.884  \n",
       "4       5.85        5.99             131.734  \n",
       "5       5.85        5.99             132.649  \n",
       "6       5.85        5.99             133.777  \n",
       "7       5.85        5.99             134.969  \n",
       "8       5.85        5.99             136.294  \n",
       "9       5.85        5.99             137.532  \n",
       "10      5.85        5.99             138.794  \n",
       "11      5.85        5.99             140.179  \n",
       "12      5.85        5.99             128.461  \n",
       "13      5.85        5.99             129.355  \n",
       "14      5.85        5.99             130.148  "
      ]
     },
     "execution_count": 72,
     "metadata": {},
     "output_type": "execute_result"
    }
   ],
   "source": [
    "df.head(15)"
   ]
  },
  {
   "cell_type": "code",
   "execution_count": 73,
   "id": "bd983a82-16f6-4ff6-b884-96cdf7665822",
   "metadata": {},
   "outputs": [
    {
     "data": {
      "text/plain": [
       "(50112, 16)"
      ]
     },
     "execution_count": 73,
     "metadata": {},
     "output_type": "execute_result"
    }
   ],
   "source": [
    "df.shape"
   ]
  },
  {
   "cell_type": "code",
   "execution_count": 74,
   "id": "b12e81b2-a298-4575-aa0c-0456771c3a83",
   "metadata": {},
   "outputs": [],
   "source": [
    "df.to_csv('us-home-data.csv', index=False, header=True)"
   ]
  },
  {
   "cell_type": "code",
   "execution_count": null,
   "id": "03d00e79-bdca-4d7b-89c7-8936bac73ad2",
   "metadata": {},
   "outputs": [],
   "source": []
  }
 ],
 "metadata": {
  "kernelspec": {
   "display_name": "Python 3 (ipykernel)",
   "language": "python",
   "name": "python3"
  },
  "language_info": {
   "codemirror_mode": {
    "name": "ipython",
    "version": 3
   },
   "file_extension": ".py",
   "mimetype": "text/x-python",
   "name": "python",
   "nbconvert_exporter": "python",
   "pygments_lexer": "ipython3",
   "version": "3.10.11"
  }
 },
 "nbformat": 4,
 "nbformat_minor": 5
}
