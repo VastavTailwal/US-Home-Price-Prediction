{
 "cells": [
  {
   "cell_type": "markdown",
   "id": "75855593-8ce2-4b00-82a3-10871e41d0d6",
   "metadata": {},
   "source": [
    "# US Home Price Prediction"
   ]
  },
  {
   "cell_type": "markdown",
   "id": "5c850465-cb82-4e0a-a366-df33d384086b",
   "metadata": {},
   "source": [
    "## Reading Data"
   ]
  },
  {
   "cell_type": "code",
   "execution_count": 1,
   "id": "b367ae6c-4968-4986-b6a8-d339ae9be583",
   "metadata": {},
   "outputs": [],
   "source": [
    "import numpy as np\n",
    "import pandas as pd"
   ]
  },
  {
   "cell_type": "code",
   "execution_count": 71,
   "id": "d0380e75-4948-46a6-a157-ce32710c6868",
   "metadata": {},
   "outputs": [],
   "source": [
    "gdp = pd.read_csv(\"Data/gdp.csv\")\n",
    "immig = pd.read_csv(\"Data/immigrants.csv\")\n",
    "infl = pd.read_csv(\"Data/inflation.csv\")\n",
    "mrtg = pd.read_csv(\"Data/mortgage.csv\")\n",
    "ppl = pd.read_csv(\"Data/population.csv\")\n",
    "unemp = pd.read_csv(\"Data/unemployment.csv\")\n",
    "median = pd.read_csv(\"Data/median.csv\")\n",
    "avg = pd.read_csv(\"Data/average.csv\")\n",
    "cs = pd.read_csv(\"Data/cs-shi.csv\")"
   ]
  },
  {
   "cell_type": "code",
   "execution_count": 6,
   "id": "a2cb11b5-10b4-440b-a826-5aa18334ae6b",
   "metadata": {},
   "outputs": [
    {
     "name": "stdout",
     "output_type": "stream",
     "text": [
      "(20, 3) (19, 2) (20, 2) (20, 2) (20, 2) (20, 2) (80, 2) (240, 2)\n"
     ]
    }
   ],
   "source": [
    "print(gdp.shape, immig.shape, infl.shape, ppl.shape, unemp.shape, median.shape, avg.shape, cs.shape)"
   ]
  },
  {
   "cell_type": "markdown",
   "id": "9699c63d-88f7-4b49-a602-29fef039c20d",
   "metadata": {},
   "source": [
    "## GDP"
   ]
  },
  {
   "cell_type": "code",
   "execution_count": 72,
   "id": "98d5adcf-f56c-45a2-9d33-7b14b67d0b44",
   "metadata": {},
   "outputs": [
    {
     "name": "stdout",
     "output_type": "stream",
     "text": [
      "<class 'pandas.core.frame.DataFrame'>\n",
      "RangeIndex: 20 entries, 0 to 19\n",
      "Data columns (total 3 columns):\n",
      " #   Column          Non-Null Count  Dtype  \n",
      "---  ------          --------------  -----  \n",
      " 0   date            20 non-null     object \n",
      " 1   gdp_billion     20 non-null     float64\n",
      " 2   gdp_per_capita  20 non-null     float64\n",
      "dtypes: float64(2), object(1)\n",
      "memory usage: 608.0+ bytes\n"
     ]
    }
   ],
   "source": [
    "gdp.info()"
   ]
  },
  {
   "cell_type": "code",
   "execution_count": 73,
   "id": "55b13aed-e124-4194-80d1-a37ea7aa39c5",
   "metadata": {},
   "outputs": [
    {
     "name": "stderr",
     "output_type": "stream",
     "text": [
      "C:\\Users\\tailw\\AppData\\Local\\Temp\\ipykernel_19072\\2576662707.py:1: UserWarning: Parsing dates in %d-%m-%Y format when dayfirst=False (the default) was specified. Pass `dayfirst=True` or specify a format to silence this warning.\n",
      "  gdp['date'] = pd.to_datetime(gdp['date'])\n"
     ]
    }
   ],
   "source": [
    "gdp['date'] = pd.to_datetime(gdp['date'])"
   ]
  },
  {
   "cell_type": "code",
   "execution_count": 74,
   "id": "a30fe171-30f6-40aa-9ae4-e5ee8c6b4719",
   "metadata": {},
   "outputs": [
    {
     "data": {
      "text/html": [
       "<div>\n",
       "<style scoped>\n",
       "    .dataframe tbody tr th:only-of-type {\n",
       "        vertical-align: middle;\n",
       "    }\n",
       "\n",
       "    .dataframe tbody tr th {\n",
       "        vertical-align: top;\n",
       "    }\n",
       "\n",
       "    .dataframe thead th {\n",
       "        text-align: right;\n",
       "    }\n",
       "</style>\n",
       "<table border=\"1\" class=\"dataframe\">\n",
       "  <thead>\n",
       "    <tr style=\"text-align: right;\">\n",
       "      <th></th>\n",
       "      <th>date</th>\n",
       "      <th>gdp_billion</th>\n",
       "      <th>gdp_per_capita</th>\n",
       "    </tr>\n",
       "  </thead>\n",
       "  <tbody>\n",
       "    <tr>\n",
       "      <th>0</th>\n",
       "      <td>2003-12-31</td>\n",
       "      <td>11456.44204</td>\n",
       "      <td>39490.2750</td>\n",
       "    </tr>\n",
       "    <tr>\n",
       "      <th>1</th>\n",
       "      <td>2004-12-31</td>\n",
       "      <td>12217.19320</td>\n",
       "      <td>41724.6316</td>\n",
       "    </tr>\n",
       "    <tr>\n",
       "      <th>2</th>\n",
       "      <td>2005-12-31</td>\n",
       "      <td>13039.19919</td>\n",
       "      <td>44123.4071</td>\n",
       "    </tr>\n",
       "    <tr>\n",
       "      <th>3</th>\n",
       "      <td>2006-12-31</td>\n",
       "      <td>13815.58695</td>\n",
       "      <td>46302.0009</td>\n",
       "    </tr>\n",
       "    <tr>\n",
       "      <th>4</th>\n",
       "      <td>2007-12-31</td>\n",
       "      <td>14474.22691</td>\n",
       "      <td>48050.2238</td>\n",
       "    </tr>\n",
       "  </tbody>\n",
       "</table>\n",
       "</div>"
      ],
      "text/plain": [
       "        date  gdp_billion  gdp_per_capita\n",
       "0 2003-12-31  11456.44204      39490.2750\n",
       "1 2004-12-31  12217.19320      41724.6316\n",
       "2 2005-12-31  13039.19919      44123.4071\n",
       "3 2006-12-31  13815.58695      46302.0009\n",
       "4 2007-12-31  14474.22691      48050.2238"
      ]
     },
     "execution_count": 74,
     "metadata": {},
     "output_type": "execute_result"
    }
   ],
   "source": [
    "gdp.head()"
   ]
  },
  {
   "cell_type": "code",
   "execution_count": 14,
   "id": "5bc93013-44cb-437d-81df-7c7aae76b8c7",
   "metadata": {},
   "outputs": [],
   "source": [
    "gdp['year'] = gdp['date'].dt.year\n",
    "gdp['month'] = gdp['date'].dt.month\n",
    "gdp['day'] = gdp['date'].dt.day"
   ]
  },
  {
   "cell_type": "code",
   "execution_count": 21,
   "id": "d103dbc9-c704-49e4-b760-8e6181570141",
   "metadata": {},
   "outputs": [
    {
     "data": {
      "text/html": [
       "<div>\n",
       "<style scoped>\n",
       "    .dataframe tbody tr th:only-of-type {\n",
       "        vertical-align: middle;\n",
       "    }\n",
       "\n",
       "    .dataframe tbody tr th {\n",
       "        vertical-align: top;\n",
       "    }\n",
       "\n",
       "    .dataframe thead th {\n",
       "        text-align: right;\n",
       "    }\n",
       "</style>\n",
       "<table border=\"1\" class=\"dataframe\">\n",
       "  <thead>\n",
       "    <tr style=\"text-align: right;\">\n",
       "      <th></th>\n",
       "      <th>gdp_billion</th>\n",
       "      <th>gdp_per_capita</th>\n",
       "      <th>year</th>\n",
       "    </tr>\n",
       "  </thead>\n",
       "  <tbody>\n",
       "    <tr>\n",
       "      <th>0</th>\n",
       "      <td>11456.44204</td>\n",
       "      <td>39490.2750</td>\n",
       "      <td>2003</td>\n",
       "    </tr>\n",
       "    <tr>\n",
       "      <th>1</th>\n",
       "      <td>12217.19320</td>\n",
       "      <td>41724.6316</td>\n",
       "      <td>2004</td>\n",
       "    </tr>\n",
       "    <tr>\n",
       "      <th>2</th>\n",
       "      <td>13039.19919</td>\n",
       "      <td>44123.4071</td>\n",
       "      <td>2005</td>\n",
       "    </tr>\n",
       "    <tr>\n",
       "      <th>3</th>\n",
       "      <td>13815.58695</td>\n",
       "      <td>46302.0009</td>\n",
       "      <td>2006</td>\n",
       "    </tr>\n",
       "    <tr>\n",
       "      <th>4</th>\n",
       "      <td>14474.22691</td>\n",
       "      <td>48050.2238</td>\n",
       "      <td>2007</td>\n",
       "    </tr>\n",
       "  </tbody>\n",
       "</table>\n",
       "</div>"
      ],
      "text/plain": [
       "   gdp_billion  gdp_per_capita  year\n",
       "0  11456.44204      39490.2750  2003\n",
       "1  12217.19320      41724.6316  2004\n",
       "2  13039.19919      44123.4071  2005\n",
       "3  13815.58695      46302.0009  2006\n",
       "4  14474.22691      48050.2238  2007"
      ]
     },
     "execution_count": 21,
     "metadata": {},
     "output_type": "execute_result"
    }
   ],
   "source": [
    "gdp.head()"
   ]
  },
  {
   "cell_type": "code",
   "execution_count": 18,
   "id": "d6dbfa40-ba1b-4ab8-b642-f5a7b898d378",
   "metadata": {},
   "outputs": [
    {
     "name": "stdout",
     "output_type": "stream",
     "text": [
      "<class 'pandas.core.frame.DataFrame'>\n",
      "RangeIndex: 20 entries, 0 to 19\n",
      "Data columns (total 4 columns):\n",
      " #   Column          Non-Null Count  Dtype  \n",
      "---  ------          --------------  -----  \n",
      " 0   gdp_billion     20 non-null     float64\n",
      " 1   gdp_per_capita  20 non-null     float64\n",
      " 2   year            20 non-null     int32  \n",
      " 3   month           20 non-null     int32  \n",
      "dtypes: float64(2), int32(2)\n",
      "memory usage: 608.0 bytes\n"
     ]
    }
   ],
   "source": [
    "gdp.info()"
   ]
  },
  {
   "cell_type": "code",
   "execution_count": 17,
   "id": "44b638bb-13d5-47c9-ab81-6a07526de641",
   "metadata": {},
   "outputs": [],
   "source": [
    "gdp.drop(columns=['date', 'day'], inplace=True)"
   ]
  },
  {
   "cell_type": "code",
   "execution_count": 20,
   "id": "bad2020f-ecb9-422e-ad8f-ca43eaf13df3",
   "metadata": {},
   "outputs": [],
   "source": [
    "gdp.drop(columns=['month'], inplace=True)"
   ]
  },
  {
   "cell_type": "code",
   "execution_count": 23,
   "id": "65f92e45-19ca-4657-82cf-48dd54f60526",
   "metadata": {},
   "outputs": [],
   "source": [
    "gdp.to_csv('gdp.csv', index=False, header=True)"
   ]
  },
  {
   "cell_type": "markdown",
   "id": "03a14866-e008-421d-96ad-0b36d4767a33",
   "metadata": {},
   "source": [
    "## Case Shiller"
   ]
  },
  {
   "cell_type": "code",
   "execution_count": 41,
   "id": "a23022d9-66f9-4591-837b-01c23d25111a",
   "metadata": {},
   "outputs": [
    {
     "data": {
      "text/html": [
       "<div>\n",
       "<style scoped>\n",
       "    .dataframe tbody tr th:only-of-type {\n",
       "        vertical-align: middle;\n",
       "    }\n",
       "\n",
       "    .dataframe tbody tr th {\n",
       "        vertical-align: top;\n",
       "    }\n",
       "\n",
       "    .dataframe thead th {\n",
       "        text-align: right;\n",
       "    }\n",
       "</style>\n",
       "<table border=\"1\" class=\"dataframe\">\n",
       "  <thead>\n",
       "    <tr style=\"text-align: right;\">\n",
       "      <th></th>\n",
       "      <th>date</th>\n",
       "      <th>cs</th>\n",
       "    </tr>\n",
       "  </thead>\n",
       "  <tbody>\n",
       "    <tr>\n",
       "      <th>0</th>\n",
       "      <td>01-01-2003</td>\n",
       "      <td>128.461</td>\n",
       "    </tr>\n",
       "    <tr>\n",
       "      <th>1</th>\n",
       "      <td>01-02-2003</td>\n",
       "      <td>129.355</td>\n",
       "    </tr>\n",
       "    <tr>\n",
       "      <th>2</th>\n",
       "      <td>01-03-2003</td>\n",
       "      <td>130.148</td>\n",
       "    </tr>\n",
       "    <tr>\n",
       "      <th>3</th>\n",
       "      <td>01-04-2003</td>\n",
       "      <td>130.884</td>\n",
       "    </tr>\n",
       "    <tr>\n",
       "      <th>4</th>\n",
       "      <td>01-05-2003</td>\n",
       "      <td>131.734</td>\n",
       "    </tr>\n",
       "  </tbody>\n",
       "</table>\n",
       "</div>"
      ],
      "text/plain": [
       "         date       cs\n",
       "0  01-01-2003  128.461\n",
       "1  01-02-2003  129.355\n",
       "2  01-03-2003  130.148\n",
       "3  01-04-2003  130.884\n",
       "4  01-05-2003  131.734"
      ]
     },
     "execution_count": 41,
     "metadata": {},
     "output_type": "execute_result"
    }
   ],
   "source": [
    "cs.head()"
   ]
  },
  {
   "cell_type": "code",
   "execution_count": 50,
   "id": "73049840-953c-45ff-804a-500aea2e1317",
   "metadata": {},
   "outputs": [
    {
     "name": "stdout",
     "output_type": "stream",
     "text": [
      "<class 'pandas.core.frame.DataFrame'>\n",
      "RangeIndex: 240 entries, 0 to 239\n",
      "Data columns (total 4 columns):\n",
      " #   Column  Non-Null Count  Dtype         \n",
      "---  ------  --------------  -----         \n",
      " 0   date    240 non-null    datetime64[ns]\n",
      " 1   cs      240 non-null    float64       \n",
      " 2   year    240 non-null    int32         \n",
      " 3   month   240 non-null    int32         \n",
      "dtypes: datetime64[ns](1), float64(1), int32(2)\n",
      "memory usage: 5.8 KB\n"
     ]
    }
   ],
   "source": [
    "cs.info()"
   ]
  },
  {
   "cell_type": "code",
   "execution_count": 48,
   "id": "4b293dac-314f-4320-9327-c2ce7aab9861",
   "metadata": {},
   "outputs": [],
   "source": [
    "cs['date'] = pd.to_datetime(cs['date'], format='%d-%m-%Y')"
   ]
  },
  {
   "cell_type": "code",
   "execution_count": 49,
   "id": "147ace2a-35f1-4f41-9316-86f8d6882a6a",
   "metadata": {},
   "outputs": [],
   "source": [
    "cs['year'] = cs['date'].dt.year\n",
    "cs['month'] = cs['date'].dt.month"
   ]
  },
  {
   "cell_type": "code",
   "execution_count": 54,
   "id": "e3d359e4-0c88-480a-9177-ffff7983963b",
   "metadata": {},
   "outputs": [
    {
     "data": {
      "text/html": [
       "<div>\n",
       "<style scoped>\n",
       "    .dataframe tbody tr th:only-of-type {\n",
       "        vertical-align: middle;\n",
       "    }\n",
       "\n",
       "    .dataframe tbody tr th {\n",
       "        vertical-align: top;\n",
       "    }\n",
       "\n",
       "    .dataframe thead th {\n",
       "        text-align: right;\n",
       "    }\n",
       "</style>\n",
       "<table border=\"1\" class=\"dataframe\">\n",
       "  <thead>\n",
       "    <tr style=\"text-align: right;\">\n",
       "      <th></th>\n",
       "      <th>cs</th>\n",
       "      <th>year</th>\n",
       "      <th>month</th>\n",
       "    </tr>\n",
       "  </thead>\n",
       "  <tbody>\n",
       "    <tr>\n",
       "      <th>0</th>\n",
       "      <td>128.461</td>\n",
       "      <td>2003</td>\n",
       "      <td>1</td>\n",
       "    </tr>\n",
       "    <tr>\n",
       "      <th>1</th>\n",
       "      <td>129.355</td>\n",
       "      <td>2003</td>\n",
       "      <td>2</td>\n",
       "    </tr>\n",
       "    <tr>\n",
       "      <th>2</th>\n",
       "      <td>130.148</td>\n",
       "      <td>2003</td>\n",
       "      <td>3</td>\n",
       "    </tr>\n",
       "    <tr>\n",
       "      <th>3</th>\n",
       "      <td>130.884</td>\n",
       "      <td>2003</td>\n",
       "      <td>4</td>\n",
       "    </tr>\n",
       "    <tr>\n",
       "      <th>4</th>\n",
       "      <td>131.734</td>\n",
       "      <td>2003</td>\n",
       "      <td>5</td>\n",
       "    </tr>\n",
       "  </tbody>\n",
       "</table>\n",
       "</div>"
      ],
      "text/plain": [
       "        cs  year  month\n",
       "0  128.461  2003      1\n",
       "1  129.355  2003      2\n",
       "2  130.148  2003      3\n",
       "3  130.884  2003      4\n",
       "4  131.734  2003      5"
      ]
     },
     "execution_count": 54,
     "metadata": {},
     "output_type": "execute_result"
    }
   ],
   "source": [
    "cs.head()"
   ]
  },
  {
   "cell_type": "code",
   "execution_count": 52,
   "id": "62b863fe-e277-41a0-863a-8709ef320582",
   "metadata": {},
   "outputs": [],
   "source": [
    "cs.drop(columns=['date'], inplace=True)"
   ]
  },
  {
   "cell_type": "code",
   "execution_count": 55,
   "id": "c5955d36-c8ef-47c6-9fbe-02d933aa91a6",
   "metadata": {},
   "outputs": [],
   "source": [
    "cs.to_csv('case-shiller.csv', index=False, header=True)"
   ]
  },
  {
   "cell_type": "markdown",
   "id": "fb207b06-263f-4965-bf22-abd8080f7ee8",
   "metadata": {},
   "source": [
    "## Inflation"
   ]
  },
  {
   "cell_type": "code",
   "execution_count": 56,
   "id": "743dd4c2-26e0-464c-a092-b07aa47cc3f4",
   "metadata": {},
   "outputs": [
    {
     "data": {
      "text/html": [
       "<div>\n",
       "<style scoped>\n",
       "    .dataframe tbody tr th:only-of-type {\n",
       "        vertical-align: middle;\n",
       "    }\n",
       "\n",
       "    .dataframe tbody tr th {\n",
       "        vertical-align: top;\n",
       "    }\n",
       "\n",
       "    .dataframe thead th {\n",
       "        text-align: right;\n",
       "    }\n",
       "</style>\n",
       "<table border=\"1\" class=\"dataframe\">\n",
       "  <thead>\n",
       "    <tr style=\"text-align: right;\">\n",
       "      <th></th>\n",
       "      <th>date</th>\n",
       "      <th>inf_rate</th>\n",
       "    </tr>\n",
       "  </thead>\n",
       "  <tbody>\n",
       "    <tr>\n",
       "      <th>0</th>\n",
       "      <td>31-12-2003</td>\n",
       "      <td>2.2701</td>\n",
       "    </tr>\n",
       "    <tr>\n",
       "      <th>1</th>\n",
       "      <td>31-12-2004</td>\n",
       "      <td>2.6772</td>\n",
       "    </tr>\n",
       "    <tr>\n",
       "      <th>2</th>\n",
       "      <td>31-12-2005</td>\n",
       "      <td>3.3927</td>\n",
       "    </tr>\n",
       "    <tr>\n",
       "      <th>3</th>\n",
       "      <td>31-12-2006</td>\n",
       "      <td>3.2259</td>\n",
       "    </tr>\n",
       "    <tr>\n",
       "      <th>4</th>\n",
       "      <td>31-12-2007</td>\n",
       "      <td>2.8527</td>\n",
       "    </tr>\n",
       "  </tbody>\n",
       "</table>\n",
       "</div>"
      ],
      "text/plain": [
       "         date  inf_rate\n",
       "0  31-12-2003    2.2701\n",
       "1  31-12-2004    2.6772\n",
       "2  31-12-2005    3.3927\n",
       "3  31-12-2006    3.2259\n",
       "4  31-12-2007    2.8527"
      ]
     },
     "execution_count": 56,
     "metadata": {},
     "output_type": "execute_result"
    }
   ],
   "source": [
    "infl.head()"
   ]
  },
  {
   "cell_type": "code",
   "execution_count": 57,
   "id": "bad68419-73d7-4437-a5ae-8864fc0907f0",
   "metadata": {},
   "outputs": [],
   "source": [
    "infl['date'] = pd.to_datetime(infl['date'], format='%d-%m-%Y')"
   ]
  },
  {
   "cell_type": "code",
   "execution_count": 58,
   "id": "5cf14acd-d40b-4d36-9c98-b33bb9803e1f",
   "metadata": {},
   "outputs": [
    {
     "name": "stdout",
     "output_type": "stream",
     "text": [
      "<class 'pandas.core.frame.DataFrame'>\n",
      "RangeIndex: 20 entries, 0 to 19\n",
      "Data columns (total 2 columns):\n",
      " #   Column    Non-Null Count  Dtype         \n",
      "---  ------    --------------  -----         \n",
      " 0   date      20 non-null     datetime64[ns]\n",
      " 1   inf_rate  20 non-null     float64       \n",
      "dtypes: datetime64[ns](1), float64(1)\n",
      "memory usage: 448.0 bytes\n"
     ]
    }
   ],
   "source": [
    "infl.info()"
   ]
  },
  {
   "cell_type": "code",
   "execution_count": 59,
   "id": "5e709996-1d31-4b97-80a1-9fffdcfd3da2",
   "metadata": {},
   "outputs": [],
   "source": [
    "infl['year'] = infl['date'].dt.year"
   ]
  },
  {
   "cell_type": "code",
   "execution_count": 63,
   "id": "dfd0c492-d6ee-4eff-a211-96fecfd38f3e",
   "metadata": {},
   "outputs": [
    {
     "data": {
      "text/html": [
       "<div>\n",
       "<style scoped>\n",
       "    .dataframe tbody tr th:only-of-type {\n",
       "        vertical-align: middle;\n",
       "    }\n",
       "\n",
       "    .dataframe tbody tr th {\n",
       "        vertical-align: top;\n",
       "    }\n",
       "\n",
       "    .dataframe thead th {\n",
       "        text-align: right;\n",
       "    }\n",
       "</style>\n",
       "<table border=\"1\" class=\"dataframe\">\n",
       "  <thead>\n",
       "    <tr style=\"text-align: right;\">\n",
       "      <th></th>\n",
       "      <th>inf_rate</th>\n",
       "      <th>year</th>\n",
       "    </tr>\n",
       "  </thead>\n",
       "  <tbody>\n",
       "    <tr>\n",
       "      <th>0</th>\n",
       "      <td>2.2701</td>\n",
       "      <td>2003</td>\n",
       "    </tr>\n",
       "    <tr>\n",
       "      <th>1</th>\n",
       "      <td>2.6772</td>\n",
       "      <td>2004</td>\n",
       "    </tr>\n",
       "    <tr>\n",
       "      <th>2</th>\n",
       "      <td>3.3927</td>\n",
       "      <td>2005</td>\n",
       "    </tr>\n",
       "    <tr>\n",
       "      <th>3</th>\n",
       "      <td>3.2259</td>\n",
       "      <td>2006</td>\n",
       "    </tr>\n",
       "    <tr>\n",
       "      <th>4</th>\n",
       "      <td>2.8527</td>\n",
       "      <td>2007</td>\n",
       "    </tr>\n",
       "  </tbody>\n",
       "</table>\n",
       "</div>"
      ],
      "text/plain": [
       "   inf_rate  year\n",
       "0    2.2701  2003\n",
       "1    2.6772  2004\n",
       "2    3.3927  2005\n",
       "3    3.2259  2006\n",
       "4    2.8527  2007"
      ]
     },
     "execution_count": 63,
     "metadata": {},
     "output_type": "execute_result"
    }
   ],
   "source": [
    "infl.head()"
   ]
  },
  {
   "cell_type": "code",
   "execution_count": 62,
   "id": "85e33b72-18d2-4cca-b469-88bfe3438178",
   "metadata": {},
   "outputs": [],
   "source": [
    "infl.drop(columns=['date'], inplace=True)"
   ]
  },
  {
   "cell_type": "code",
   "execution_count": 64,
   "id": "ab941f1b-0041-45d6-9480-cff9cde0e632",
   "metadata": {},
   "outputs": [],
   "source": [
    "infl.to_csv('inflation.csv', header=True, index=False)"
   ]
  },
  {
   "cell_type": "markdown",
   "id": "d45a6906-9ea2-4181-b981-f30bbcc91825",
   "metadata": {},
   "source": [
    "## Median House Price"
   ]
  },
  {
   "cell_type": "code",
   "execution_count": 76,
   "id": "823ffcab-0ad6-4cde-b9e9-22b7fe08f491",
   "metadata": {},
   "outputs": [
    {
     "name": "stdout",
     "output_type": "stream",
     "text": [
      "<class 'pandas.core.frame.DataFrame'>\n",
      "RangeIndex: 20 entries, 0 to 19\n",
      "Data columns (total 2 columns):\n",
      " #   Column  Non-Null Count  Dtype \n",
      "---  ------  --------------  ----- \n",
      " 0   date    20 non-null     object\n",
      " 1   median  20 non-null     int64 \n",
      "dtypes: int64(1), object(1)\n",
      "memory usage: 448.0+ bytes\n"
     ]
    }
   ],
   "source": [
    "median.info()"
   ]
  },
  {
   "cell_type": "code",
   "execution_count": 77,
   "id": "ff5a3e23-c3b8-485a-9742-e5a69f9ec2f4",
   "metadata": {},
   "outputs": [],
   "source": [
    "median['year'] = pd.to_datetime(median['date'], format='%d-%m-%Y').dt.year"
   ]
  },
  {
   "cell_type": "code",
   "execution_count": 78,
   "id": "c4e8fc3c-106a-4271-b462-6c87b686a25b",
   "metadata": {},
   "outputs": [
    {
     "data": {
      "text/html": [
       "<div>\n",
       "<style scoped>\n",
       "    .dataframe tbody tr th:only-of-type {\n",
       "        vertical-align: middle;\n",
       "    }\n",
       "\n",
       "    .dataframe tbody tr th {\n",
       "        vertical-align: top;\n",
       "    }\n",
       "\n",
       "    .dataframe thead th {\n",
       "        text-align: right;\n",
       "    }\n",
       "</style>\n",
       "<table border=\"1\" class=\"dataframe\">\n",
       "  <thead>\n",
       "    <tr style=\"text-align: right;\">\n",
       "      <th></th>\n",
       "      <th>date</th>\n",
       "      <th>median</th>\n",
       "      <th>year</th>\n",
       "    </tr>\n",
       "  </thead>\n",
       "  <tbody>\n",
       "    <tr>\n",
       "      <th>0</th>\n",
       "      <td>01-01-2003</td>\n",
       "      <td>65860</td>\n",
       "      <td>2003</td>\n",
       "    </tr>\n",
       "    <tr>\n",
       "      <th>1</th>\n",
       "      <td>01-01-2004</td>\n",
       "      <td>65760</td>\n",
       "      <td>2004</td>\n",
       "    </tr>\n",
       "    <tr>\n",
       "      <th>2</th>\n",
       "      <td>01-01-2005</td>\n",
       "      <td>66780</td>\n",
       "      <td>2005</td>\n",
       "    </tr>\n",
       "    <tr>\n",
       "      <th>3</th>\n",
       "      <td>01-01-2006</td>\n",
       "      <td>67520</td>\n",
       "      <td>2006</td>\n",
       "    </tr>\n",
       "    <tr>\n",
       "      <th>4</th>\n",
       "      <td>01-01-2007</td>\n",
       "      <td>68610</td>\n",
       "      <td>2007</td>\n",
       "    </tr>\n",
       "  </tbody>\n",
       "</table>\n",
       "</div>"
      ],
      "text/plain": [
       "         date  median  year\n",
       "0  01-01-2003   65860  2003\n",
       "1  01-01-2004   65760  2004\n",
       "2  01-01-2005   66780  2005\n",
       "3  01-01-2006   67520  2006\n",
       "4  01-01-2007   68610  2007"
      ]
     },
     "execution_count": 78,
     "metadata": {},
     "output_type": "execute_result"
    }
   ],
   "source": [
    "median.head()"
   ]
  },
  {
   "cell_type": "code",
   "execution_count": 79,
   "id": "d5ce9222-f28a-4081-9ebe-620aa1490a44",
   "metadata": {},
   "outputs": [],
   "source": [
    "median.drop(columns=['date'], inplace=True)"
   ]
  },
  {
   "cell_type": "code",
   "execution_count": 70,
   "id": "6ba3d491-1d31-4492-a514-9e909917dd08",
   "metadata": {},
   "outputs": [],
   "source": [
    "median.to_csv('median.csv', header=True, index=False)"
   ]
  },
  {
   "cell_type": "markdown",
   "id": "4a277a3e-e068-4fc6-afb2-a4d1ff64d39c",
   "metadata": {},
   "source": [
    "## Average House Price"
   ]
  },
  {
   "cell_type": "code",
   "execution_count": 85,
   "id": "66228dc7-f2ab-4838-b23d-5d585211c039",
   "metadata": {},
   "outputs": [
    {
     "data": {
      "text/html": [
       "<div>\n",
       "<style scoped>\n",
       "    .dataframe tbody tr th:only-of-type {\n",
       "        vertical-align: middle;\n",
       "    }\n",
       "\n",
       "    .dataframe tbody tr th {\n",
       "        vertical-align: top;\n",
       "    }\n",
       "\n",
       "    .dataframe thead th {\n",
       "        text-align: right;\n",
       "    }\n",
       "</style>\n",
       "<table border=\"1\" class=\"dataframe\">\n",
       "  <thead>\n",
       "    <tr style=\"text-align: right;\">\n",
       "      <th></th>\n",
       "      <th>date</th>\n",
       "      <th>avg</th>\n",
       "      <th>year</th>\n",
       "      <th>month</th>\n",
       "    </tr>\n",
       "  </thead>\n",
       "  <tbody>\n",
       "    <tr>\n",
       "      <th>0</th>\n",
       "      <td>2003-01-01</td>\n",
       "      <td>233100</td>\n",
       "      <td>2003</td>\n",
       "      <td>1</td>\n",
       "    </tr>\n",
       "    <tr>\n",
       "      <th>1</th>\n",
       "      <td>2003-04-01</td>\n",
       "      <td>241000</td>\n",
       "      <td>2003</td>\n",
       "      <td>4</td>\n",
       "    </tr>\n",
       "    <tr>\n",
       "      <th>2</th>\n",
       "      <td>2003-07-01</td>\n",
       "      <td>248100</td>\n",
       "      <td>2003</td>\n",
       "      <td>7</td>\n",
       "    </tr>\n",
       "    <tr>\n",
       "      <th>3</th>\n",
       "      <td>2003-10-01</td>\n",
       "      <td>256000</td>\n",
       "      <td>2003</td>\n",
       "      <td>10</td>\n",
       "    </tr>\n",
       "    <tr>\n",
       "      <th>4</th>\n",
       "      <td>2004-01-01</td>\n",
       "      <td>262900</td>\n",
       "      <td>2004</td>\n",
       "      <td>1</td>\n",
       "    </tr>\n",
       "  </tbody>\n",
       "</table>\n",
       "</div>"
      ],
      "text/plain": [
       "        date     avg  year  month\n",
       "0 2003-01-01  233100  2003      1\n",
       "1 2003-04-01  241000  2003      4\n",
       "2 2003-07-01  248100  2003      7\n",
       "3 2003-10-01  256000  2003     10\n",
       "4 2004-01-01  262900  2004      1"
      ]
     },
     "execution_count": 85,
     "metadata": {},
     "output_type": "execute_result"
    }
   ],
   "source": [
    "avg.head()"
   ]
  },
  {
   "cell_type": "code",
   "execution_count": 83,
   "id": "50f235fd-6319-4c0d-bd12-3931ba50c890",
   "metadata": {},
   "outputs": [],
   "source": [
    "avg['date'] = pd.to_datetime(avg['date'], format='%d-%m-%Y')"
   ]
  },
  {
   "cell_type": "code",
   "execution_count": 84,
   "id": "006b0817-ddfb-4362-958a-670212cec75f",
   "metadata": {},
   "outputs": [],
   "source": [
    "avg['year'] = avg['date'].dt.year\n",
    "avg['month'] = avg['date'].dt.month"
   ]
  },
  {
   "cell_type": "code",
   "execution_count": 86,
   "id": "dbd23f4c-c900-4c74-9f58-c23bdf8d9bf8",
   "metadata": {},
   "outputs": [],
   "source": [
    "avg.drop(columns=['date'], inplace=True)"
   ]
  },
  {
   "cell_type": "code",
   "execution_count": 87,
   "id": "e1d7182b-f772-4c68-b12e-f31497e1a892",
   "metadata": {},
   "outputs": [],
   "source": [
    "avg.to_csv('average.csv', header=True, index=False)"
   ]
  },
  {
   "cell_type": "markdown",
   "id": "5fa72875-2b6a-41de-b1b7-c58b0f89cb48",
   "metadata": {},
   "source": [
    "## Mortgage"
   ]
  },
  {
   "cell_type": "code",
   "execution_count": 93,
   "id": "0354271c-5b97-4533-b842-a46fac6c8d78",
   "metadata": {},
   "outputs": [
    {
     "data": {
      "text/html": [
       "<div>\n",
       "<style scoped>\n",
       "    .dataframe tbody tr th:only-of-type {\n",
       "        vertical-align: middle;\n",
       "    }\n",
       "\n",
       "    .dataframe tbody tr th {\n",
       "        vertical-align: top;\n",
       "    }\n",
       "\n",
       "    .dataframe thead th {\n",
       "        text-align: right;\n",
       "    }\n",
       "</style>\n",
       "<table border=\"1\" class=\"dataframe\">\n",
       "  <thead>\n",
       "    <tr style=\"text-align: right;\">\n",
       "      <th></th>\n",
       "      <th>mortgage</th>\n",
       "      <th>year</th>\n",
       "      <th>month</th>\n",
       "      <th>day</th>\n",
       "    </tr>\n",
       "  </thead>\n",
       "  <tbody>\n",
       "    <tr>\n",
       "      <th>0</th>\n",
       "      <td>5.85</td>\n",
       "      <td>2003</td>\n",
       "      <td>1</td>\n",
       "      <td>3</td>\n",
       "    </tr>\n",
       "    <tr>\n",
       "      <th>1</th>\n",
       "      <td>5.95</td>\n",
       "      <td>2003</td>\n",
       "      <td>1</td>\n",
       "      <td>10</td>\n",
       "    </tr>\n",
       "    <tr>\n",
       "      <th>2</th>\n",
       "      <td>5.97</td>\n",
       "      <td>2003</td>\n",
       "      <td>1</td>\n",
       "      <td>17</td>\n",
       "    </tr>\n",
       "    <tr>\n",
       "      <th>3</th>\n",
       "      <td>5.91</td>\n",
       "      <td>2003</td>\n",
       "      <td>1</td>\n",
       "      <td>24</td>\n",
       "    </tr>\n",
       "    <tr>\n",
       "      <th>4</th>\n",
       "      <td>5.90</td>\n",
       "      <td>2003</td>\n",
       "      <td>1</td>\n",
       "      <td>31</td>\n",
       "    </tr>\n",
       "  </tbody>\n",
       "</table>\n",
       "</div>"
      ],
      "text/plain": [
       "   mortgage  year  month  day\n",
       "0      5.85  2003      1    3\n",
       "1      5.95  2003      1   10\n",
       "2      5.97  2003      1   17\n",
       "3      5.91  2003      1   24\n",
       "4      5.90  2003      1   31"
      ]
     },
     "execution_count": 93,
     "metadata": {},
     "output_type": "execute_result"
    }
   ],
   "source": [
    "mrtg.head()"
   ]
  },
  {
   "cell_type": "code",
   "execution_count": 89,
   "id": "a80c03df-6e7e-4c7e-adbc-4ff0664f83cb",
   "metadata": {},
   "outputs": [],
   "source": [
    "mrtg['date'] = pd.to_datetime(mrtg['date'], format='%d-%m-%Y')\n",
    "mrtg['year'] = mrtg['date'].dt.year\n",
    "mrtg['month'] = mrtg['date'].dt.month\n",
    "mrtg['day'] = mrtg['date'].dt.day"
   ]
  },
  {
   "cell_type": "code",
   "execution_count": 92,
   "id": "800096de-695e-4c00-b1ec-a38ea90ef508",
   "metadata": {},
   "outputs": [],
   "source": [
    "mrtg.drop(columns=['date'], inplace=True)"
   ]
  },
  {
   "cell_type": "code",
   "execution_count": 94,
   "id": "f40a9f8d-bba3-49fa-9339-a065af544b73",
   "metadata": {},
   "outputs": [],
   "source": [
    "mrtg.to_csv('mortgage.csv', header=True, index=False)"
   ]
  },
  {
   "cell_type": "markdown",
   "id": "ecee5f10-4459-4955-ae18-cda9bd866473",
   "metadata": {},
   "source": [
    "## Population"
   ]
  },
  {
   "cell_type": "code",
   "execution_count": 99,
   "id": "1b0ba683-15ce-4708-9446-bdfa5400f071",
   "metadata": {},
   "outputs": [
    {
     "data": {
      "text/html": [
       "<div>\n",
       "<style scoped>\n",
       "    .dataframe tbody tr th:only-of-type {\n",
       "        vertical-align: middle;\n",
       "    }\n",
       "\n",
       "    .dataframe tbody tr th {\n",
       "        vertical-align: top;\n",
       "    }\n",
       "\n",
       "    .dataframe thead th {\n",
       "        text-align: right;\n",
       "    }\n",
       "</style>\n",
       "<table border=\"1\" class=\"dataframe\">\n",
       "  <thead>\n",
       "    <tr style=\"text-align: right;\">\n",
       "      <th></th>\n",
       "      <th>population</th>\n",
       "      <th>year</th>\n",
       "    </tr>\n",
       "  </thead>\n",
       "  <tbody>\n",
       "    <tr>\n",
       "      <th>0</th>\n",
       "      <td>291109820</td>\n",
       "      <td>2003</td>\n",
       "    </tr>\n",
       "    <tr>\n",
       "      <th>1</th>\n",
       "      <td>293947885</td>\n",
       "      <td>2004</td>\n",
       "    </tr>\n",
       "    <tr>\n",
       "      <th>2</th>\n",
       "      <td>296842670</td>\n",
       "      <td>2005</td>\n",
       "    </tr>\n",
       "    <tr>\n",
       "      <th>3</th>\n",
       "      <td>299753098</td>\n",
       "      <td>2006</td>\n",
       "    </tr>\n",
       "    <tr>\n",
       "      <th>4</th>\n",
       "      <td>302743399</td>\n",
       "      <td>2007</td>\n",
       "    </tr>\n",
       "  </tbody>\n",
       "</table>\n",
       "</div>"
      ],
      "text/plain": [
       "    population  year\n",
       "0    291109820  2003\n",
       "1    293947885  2004\n",
       "2    296842670  2005\n",
       "3    299753098  2006\n",
       "4    302743399  2007"
      ]
     },
     "execution_count": 99,
     "metadata": {},
     "output_type": "execute_result"
    }
   ],
   "source": [
    "ppl.head()"
   ]
  },
  {
   "cell_type": "code",
   "execution_count": 97,
   "id": "d0a8ac9a-58dc-41cb-a7d2-995d77bf2764",
   "metadata": {},
   "outputs": [],
   "source": [
    "ppl['date'] = pd.to_datetime(ppl['date'], format='%d-%m-%Y')\n",
    "ppl['year'] = ppl['date'].dt.year"
   ]
  },
  {
   "cell_type": "code",
   "execution_count": 98,
   "id": "cc45e2ce-16aa-4dab-8fcd-690f2c1ba6f2",
   "metadata": {},
   "outputs": [],
   "source": [
    "ppl.drop(columns=['date'], inplace=True)"
   ]
  },
  {
   "cell_type": "code",
   "execution_count": 100,
   "id": "71edc57f-b497-4966-9458-8fe89fdd2b4e",
   "metadata": {},
   "outputs": [],
   "source": [
    "ppl.to_csv('population.csv', header=True, index=False)"
   ]
  },
  {
   "cell_type": "markdown",
   "id": "c303345b-6c23-4d94-8bf4-42a8cb4f7b32",
   "metadata": {},
   "source": [
    "## Unemployment"
   ]
  },
  {
   "cell_type": "code",
   "execution_count": 107,
   "id": "532eab7a-8e07-41da-8a03-8d28dc4b4fcf",
   "metadata": {},
   "outputs": [
    {
     "data": {
      "text/html": [
       "<div>\n",
       "<style scoped>\n",
       "    .dataframe tbody tr th:only-of-type {\n",
       "        vertical-align: middle;\n",
       "    }\n",
       "\n",
       "    .dataframe tbody tr th {\n",
       "        vertical-align: top;\n",
       "    }\n",
       "\n",
       "    .dataframe thead th {\n",
       "        text-align: right;\n",
       "    }\n",
       "</style>\n",
       "<table border=\"1\" class=\"dataframe\">\n",
       "  <thead>\n",
       "    <tr style=\"text-align: right;\">\n",
       "      <th></th>\n",
       "      <th>unemp_rate</th>\n",
       "      <th>year</th>\n",
       "    </tr>\n",
       "  </thead>\n",
       "  <tbody>\n",
       "    <tr>\n",
       "      <th>0</th>\n",
       "      <td>5.99</td>\n",
       "      <td>2003</td>\n",
       "    </tr>\n",
       "    <tr>\n",
       "      <th>1</th>\n",
       "      <td>5.53</td>\n",
       "      <td>2004</td>\n",
       "    </tr>\n",
       "    <tr>\n",
       "      <th>2</th>\n",
       "      <td>5.08</td>\n",
       "      <td>2005</td>\n",
       "    </tr>\n",
       "    <tr>\n",
       "      <th>3</th>\n",
       "      <td>4.62</td>\n",
       "      <td>2006</td>\n",
       "    </tr>\n",
       "    <tr>\n",
       "      <th>4</th>\n",
       "      <td>4.62</td>\n",
       "      <td>2007</td>\n",
       "    </tr>\n",
       "  </tbody>\n",
       "</table>\n",
       "</div>"
      ],
      "text/plain": [
       "   unemp_rate  year\n",
       "0        5.99  2003\n",
       "1        5.53  2004\n",
       "2        5.08  2005\n",
       "3        4.62  2006\n",
       "4        4.62  2007"
      ]
     },
     "execution_count": 107,
     "metadata": {},
     "output_type": "execute_result"
    }
   ],
   "source": [
    "unemp.head()"
   ]
  },
  {
   "cell_type": "code",
   "execution_count": 104,
   "id": "bf069436-f662-4629-ae0b-e79c7bd7eeb3",
   "metadata": {},
   "outputs": [],
   "source": [
    "unemp['date'] = pd.to_datetime(unemp['date'], format='%d-%m-%Y')\n",
    "unemp['year'] = unemp['date'].dt.year"
   ]
  },
  {
   "cell_type": "code",
   "execution_count": 106,
   "id": "74eb41f0-52f6-4d88-9583-3a4b7bf323a0",
   "metadata": {},
   "outputs": [],
   "source": [
    "unemp.drop(columns=['date'], inplace=True)"
   ]
  },
  {
   "cell_type": "code",
   "execution_count": 108,
   "id": "5e8943b4-a876-4ff6-8240-da6340da0d89",
   "metadata": {},
   "outputs": [],
   "source": [
    "unemp.to_csv('unemployment.csv', header=True, index=False)"
   ]
  },
  {
   "cell_type": "code",
   "execution_count": null,
   "id": "5c3c8d91-409a-4098-a43a-1a9b482b0ba7",
   "metadata": {},
   "outputs": [],
   "source": []
  }
 ],
 "metadata": {
  "kernelspec": {
   "display_name": "Python 3 (ipykernel)",
   "language": "python",
   "name": "python3"
  },
  "language_info": {
   "codemirror_mode": {
    "name": "ipython",
    "version": 3
   },
   "file_extension": ".py",
   "mimetype": "text/x-python",
   "name": "python",
   "nbconvert_exporter": "python",
   "pygments_lexer": "ipython3",
   "version": "3.10.11"
  }
 },
 "nbformat": 4,
 "nbformat_minor": 5
}
