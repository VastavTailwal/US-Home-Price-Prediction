{
 "cells": [
  {
   "cell_type": "markdown",
   "id": "f7780acb-fa5b-46a7-8388-4ee95bab4e81",
   "metadata": {},
   "source": [
    "# Data Modeling\n",
    "**Housing Market Data**\n",
    "\n",
    "- S&P Case-Shiller Home Price Index: This index tracks home price changes nationally.\n",
    "\n",
    "**Economic Indicators**\n",
    "\n",
    "- Gross Domestic Product (GDP): Data from the Bureau of Economic Analysis (BEA) can help understand the overall economic health.\n",
    "- Unemployment Rate: Bureau of Labor Statistics (BLS) offers data on national employment rates.\n",
    "- Interest Rates: Data from the Federal Reserve on mortgage rates.\n",
    "  \n",
    "**Demographic Information**\n",
    "\n",
    "- U.S. Census Bureau: Provides population, migration data.\n",
    "- Household Income: Median household income data can be found through the U.S. Census Bureau or the American Community Survey.\n",
    "\n",
    "**Housing Supply and Demand**\n",
    "\n",
    "- Homeownership Rate: Also available from the U.S. Census Bureau.\n",
    "\n",
    "**Inflation Data**\n",
    "\n",
    "- Consumer Price Index (CPI): Data on inflation trends, which can impact purchasing power and home prices."
   ]
  },
  {
   "cell_type": "markdown",
   "id": "37ca5d25-47c4-4b89-957b-ecd893eed2d3",
   "metadata": {},
   "source": [
    "## Imports"
   ]
  },
  {
   "cell_type": "code",
   "execution_count": 1,
   "id": "03123dd0-5b59-4ae5-a44d-3ee0c07438b2",
   "metadata": {},
   "outputs": [],
   "source": [
    "import numpy as np\n",
    "import pandas as pd\n",
    "from matplotlib import pyplot as plt\n",
    "from sklearn.model_selection import train_test_split\n",
    "from sklearn.preprocessing import StandardScaler\n",
    "from tensorflow import keras"
   ]
  },
  {
   "cell_type": "code",
   "execution_count": 2,
   "id": "f83fae38-5ada-4e49-9d27-5419f28d0f7d",
   "metadata": {},
   "outputs": [],
   "source": [
    "df = pd.read_csv('us-home-data.csv')"
   ]
  },
  {
   "cell_type": "code",
   "execution_count": 3,
   "id": "72708a8d-e4cd-42f4-8983-7b4cc268cccc",
   "metadata": {},
   "outputs": [
    {
     "data": {
      "text/plain": [
       "(50112, 16)"
      ]
     },
     "execution_count": 3,
     "metadata": {},
     "output_type": "execute_result"
    }
   ],
   "source": [
    "df.shape"
   ]
  },
  {
   "cell_type": "code",
   "execution_count": 4,
   "id": "959a84a2-9729-43d9-afb5-619d48b3f6af",
   "metadata": {},
   "outputs": [
    {
     "data": {
      "text/html": [
       "<div>\n",
       "<style scoped>\n",
       "    .dataframe tbody tr th:only-of-type {\n",
       "        vertical-align: middle;\n",
       "    }\n",
       "\n",
       "    .dataframe tbody tr th {\n",
       "        vertical-align: top;\n",
       "    }\n",
       "\n",
       "    .dataframe thead th {\n",
       "        text-align: right;\n",
       "    }\n",
       "</style>\n",
       "<table border=\"1\" class=\"dataframe\">\n",
       "  <thead>\n",
       "    <tr style=\"text-align: right;\">\n",
       "      <th></th>\n",
       "      <th>ownership_day</th>\n",
       "      <th>mortgage_day</th>\n",
       "      <th>ownership_month</th>\n",
       "      <th>mortgage_month</th>\n",
       "      <th>case_shiller_month</th>\n",
       "      <th>year</th>\n",
       "      <th>gdp_billion</th>\n",
       "      <th>gdp_per_capita</th>\n",
       "      <th>population_million</th>\n",
       "      <th>immigrants_million</th>\n",
       "      <th>ownership_rate</th>\n",
       "      <th>median_income</th>\n",
       "      <th>inflation_rate</th>\n",
       "      <th>mortgage</th>\n",
       "      <th>unemp_rate</th>\n",
       "      <th>case_shiller_value</th>\n",
       "    </tr>\n",
       "  </thead>\n",
       "  <tbody>\n",
       "    <tr>\n",
       "      <th>25646</th>\n",
       "      <td>4</td>\n",
       "      <td>28</td>\n",
       "      <td>1</td>\n",
       "      <td>3</td>\n",
       "      <td>3</td>\n",
       "      <td>2013</td>\n",
       "      <td>16843.19099</td>\n",
       "      <td>53291.1277</td>\n",
       "      <td>319.375166</td>\n",
       "      <td>41.3481</td>\n",
       "      <td>65.0</td>\n",
       "      <td>65740</td>\n",
       "      <td>1.4648</td>\n",
       "      <td>3.57</td>\n",
       "      <td>7.37</td>\n",
       "      <td>149.963</td>\n",
       "    </tr>\n",
       "    <tr>\n",
       "      <th>43827</th>\n",
       "      <td>1</td>\n",
       "      <td>2</td>\n",
       "      <td>1</td>\n",
       "      <td>7</td>\n",
       "      <td>4</td>\n",
       "      <td>2020</td>\n",
       "      <td>21060.47361</td>\n",
       "      <td>63528.6343</td>\n",
       "      <td>335.942003</td>\n",
       "      <td>45.0856</td>\n",
       "      <td>65.3</td>\n",
       "      <td>76660</td>\n",
       "      <td>1.2336</td>\n",
       "      <td>3.07</td>\n",
       "      <td>8.05</td>\n",
       "      <td>216.803</td>\n",
       "    </tr>\n",
       "    <tr>\n",
       "      <th>10013</th>\n",
       "      <td>7</td>\n",
       "      <td>28</td>\n",
       "      <td>1</td>\n",
       "      <td>12</td>\n",
       "      <td>6</td>\n",
       "      <td>2006</td>\n",
       "      <td>13815.58695</td>\n",
       "      <td>46302.0009</td>\n",
       "      <td>299.753098</td>\n",
       "      <td>34.4558</td>\n",
       "      <td>69.0</td>\n",
       "      <td>67520</td>\n",
       "      <td>3.2259</td>\n",
       "      <td>6.18</td>\n",
       "      <td>4.62</td>\n",
       "      <td>183.507</td>\n",
       "    </tr>\n",
       "    <tr>\n",
       "      <th>25147</th>\n",
       "      <td>10</td>\n",
       "      <td>10</td>\n",
       "      <td>1</td>\n",
       "      <td>1</td>\n",
       "      <td>8</td>\n",
       "      <td>2013</td>\n",
       "      <td>16843.19099</td>\n",
       "      <td>53291.1277</td>\n",
       "      <td>319.375166</td>\n",
       "      <td>41.3481</td>\n",
       "      <td>65.2</td>\n",
       "      <td>65740</td>\n",
       "      <td>1.4648</td>\n",
       "      <td>3.40</td>\n",
       "      <td>7.37</td>\n",
       "      <td>156.965</td>\n",
       "    </tr>\n",
       "    <tr>\n",
       "      <th>32553</th>\n",
       "      <td>1</td>\n",
       "      <td>31</td>\n",
       "      <td>1</td>\n",
       "      <td>12</td>\n",
       "      <td>10</td>\n",
       "      <td>2015</td>\n",
       "      <td>18206.02074</td>\n",
       "      <td>56762.7295</td>\n",
       "      <td>324.607776</td>\n",
       "      <td>43.2904</td>\n",
       "      <td>63.7</td>\n",
       "      <td>68410</td>\n",
       "      <td>0.1186</td>\n",
       "      <td>4.01</td>\n",
       "      <td>5.28</td>\n",
       "      <td>174.792</td>\n",
       "    </tr>\n",
       "    <tr>\n",
       "      <th>42431</th>\n",
       "      <td>10</td>\n",
       "      <td>5</td>\n",
       "      <td>1</td>\n",
       "      <td>12</td>\n",
       "      <td>12</td>\n",
       "      <td>2019</td>\n",
       "      <td>21380.97612</td>\n",
       "      <td>65120.3947</td>\n",
       "      <td>334.319671</td>\n",
       "      <td>44.9329</td>\n",
       "      <td>65.1</td>\n",
       "      <td>78250</td>\n",
       "      <td>1.8122</td>\n",
       "      <td>3.68</td>\n",
       "      <td>3.67</td>\n",
       "      <td>213.938</td>\n",
       "    </tr>\n",
       "    <tr>\n",
       "      <th>535</th>\n",
       "      <td>1</td>\n",
       "      <td>21</td>\n",
       "      <td>1</td>\n",
       "      <td>3</td>\n",
       "      <td>8</td>\n",
       "      <td>2003</td>\n",
       "      <td>11456.44204</td>\n",
       "      <td>39490.2750</td>\n",
       "      <td>291.109820</td>\n",
       "      <td>31.9552</td>\n",
       "      <td>68.0</td>\n",
       "      <td>65860</td>\n",
       "      <td>2.2701</td>\n",
       "      <td>5.79</td>\n",
       "      <td>5.99</td>\n",
       "      <td>134.969</td>\n",
       "    </tr>\n",
       "    <tr>\n",
       "      <th>39542</th>\n",
       "      <td>10</td>\n",
       "      <td>11</td>\n",
       "      <td>1</td>\n",
       "      <td>10</td>\n",
       "      <td>3</td>\n",
       "      <td>2018</td>\n",
       "      <td>20533.05731</td>\n",
       "      <td>62823.3094</td>\n",
       "      <td>332.140037</td>\n",
       "      <td>44.7287</td>\n",
       "      <td>64.8</td>\n",
       "      <td>73030</td>\n",
       "      <td>2.4426</td>\n",
       "      <td>4.90</td>\n",
       "      <td>3.90</td>\n",
       "      <td>199.954</td>\n",
       "    </tr>\n",
       "    <tr>\n",
       "      <th>11232</th>\n",
       "      <td>1</td>\n",
       "      <td>28</td>\n",
       "      <td>1</td>\n",
       "      <td>6</td>\n",
       "      <td>1</td>\n",
       "      <td>2007</td>\n",
       "      <td>14474.22691</td>\n",
       "      <td>48050.2238</td>\n",
       "      <td>302.743399</td>\n",
       "      <td>35.9554</td>\n",
       "      <td>68.4</td>\n",
       "      <td>68610</td>\n",
       "      <td>2.8527</td>\n",
       "      <td>6.67</td>\n",
       "      <td>4.62</td>\n",
       "      <td>184.517</td>\n",
       "    </tr>\n",
       "    <tr>\n",
       "      <th>14422</th>\n",
       "      <td>4</td>\n",
       "      <td>2</td>\n",
       "      <td>1</td>\n",
       "      <td>10</td>\n",
       "      <td>11</td>\n",
       "      <td>2008</td>\n",
       "      <td>14769.85791</td>\n",
       "      <td>48570.0460</td>\n",
       "      <td>305.694910</td>\n",
       "      <td>37.8558</td>\n",
       "      <td>68.1</td>\n",
       "      <td>66280</td>\n",
       "      <td>3.8391</td>\n",
       "      <td>6.10</td>\n",
       "      <td>5.78</td>\n",
       "      <td>156.142</td>\n",
       "    </tr>\n",
       "  </tbody>\n",
       "</table>\n",
       "</div>"
      ],
      "text/plain": [
       "       ownership_day  mortgage_day  ownership_month  mortgage_month  \\\n",
       "25646              4            28                1               3   \n",
       "43827              1             2                1               7   \n",
       "10013              7            28                1              12   \n",
       "25147             10            10                1               1   \n",
       "32553              1            31                1              12   \n",
       "42431             10             5                1              12   \n",
       "535                1            21                1               3   \n",
       "39542             10            11                1              10   \n",
       "11232              1            28                1               6   \n",
       "14422              4             2                1              10   \n",
       "\n",
       "       case_shiller_month  year  gdp_billion  gdp_per_capita  \\\n",
       "25646                   3  2013  16843.19099      53291.1277   \n",
       "43827                   4  2020  21060.47361      63528.6343   \n",
       "10013                   6  2006  13815.58695      46302.0009   \n",
       "25147                   8  2013  16843.19099      53291.1277   \n",
       "32553                  10  2015  18206.02074      56762.7295   \n",
       "42431                  12  2019  21380.97612      65120.3947   \n",
       "535                     8  2003  11456.44204      39490.2750   \n",
       "39542                   3  2018  20533.05731      62823.3094   \n",
       "11232                   1  2007  14474.22691      48050.2238   \n",
       "14422                  11  2008  14769.85791      48570.0460   \n",
       "\n",
       "       population_million  immigrants_million  ownership_rate  median_income  \\\n",
       "25646          319.375166             41.3481            65.0          65740   \n",
       "43827          335.942003             45.0856            65.3          76660   \n",
       "10013          299.753098             34.4558            69.0          67520   \n",
       "25147          319.375166             41.3481            65.2          65740   \n",
       "32553          324.607776             43.2904            63.7          68410   \n",
       "42431          334.319671             44.9329            65.1          78250   \n",
       "535            291.109820             31.9552            68.0          65860   \n",
       "39542          332.140037             44.7287            64.8          73030   \n",
       "11232          302.743399             35.9554            68.4          68610   \n",
       "14422          305.694910             37.8558            68.1          66280   \n",
       "\n",
       "       inflation_rate  mortgage  unemp_rate  case_shiller_value  \n",
       "25646          1.4648      3.57        7.37             149.963  \n",
       "43827          1.2336      3.07        8.05             216.803  \n",
       "10013          3.2259      6.18        4.62             183.507  \n",
       "25147          1.4648      3.40        7.37             156.965  \n",
       "32553          0.1186      4.01        5.28             174.792  \n",
       "42431          1.8122      3.68        3.67             213.938  \n",
       "535            2.2701      5.79        5.99             134.969  \n",
       "39542          2.4426      4.90        3.90             199.954  \n",
       "11232          2.8527      6.67        4.62             184.517  \n",
       "14422          3.8391      6.10        5.78             156.142  "
      ]
     },
     "execution_count": 4,
     "metadata": {},
     "output_type": "execute_result"
    }
   ],
   "source": [
    "df.sample(10)"
   ]
  },
  {
   "cell_type": "code",
   "execution_count": 5,
   "id": "24060c97-23db-4473-b1e6-2c01fd07a2d1",
   "metadata": {},
   "outputs": [
    {
     "data": {
      "text/plain": [
       "<Axes: >"
      ]
     },
     "execution_count": 5,
     "metadata": {},
     "output_type": "execute_result"
    },
    {
     "data": {
      "image/png": "[encoded data removed]",
      "text/plain": [
       "<Figure size 640x480 with 2 Axes>"
      ]
     },
     "metadata": {},
     "output_type": "display_data"
    }
   ],
   "source": [
    "from seaborn import heatmap\n",
    "\n",
    "heatmap(df.corr())"
   ]
  },
  {
   "cell_type": "markdown",
   "id": "d70c3221-8fd4-4dc7-aa9e-ae2196f77f29",
   "metadata": {},
   "source": [
    "## Preparing data for Modeling"
   ]
  },
  {
   "cell_type": "code",
   "execution_count": 6,
   "id": "ed738ff6-c8da-443e-bcfb-5a613a448c74",
   "metadata": {},
   "outputs": [],
   "source": [
    "# splitting features and target variable\n",
    "X = df.iloc[:, :-1].values\n",
    "y = df.iloc[:, -1].values\n",
    "\n",
    "# splitting training and testing data\n",
    "X_train, X_test, y_train, y_test = train_test_split(X, y, test_size=0.05)"
   ]
  },
  {
   "cell_type": "code",
   "execution_count": 7,
   "id": "96bdb0ee-68d1-41d8-93fd-b3ec4f3c2f45",
   "metadata": {},
   "outputs": [
    {
     "name": "stdout",
     "output_type": "stream",
     "text": [
      "(47606, 15) (2506, 15) (47606,) (2506,)\n"
     ]
    }
   ],
   "source": [
    "print(X_train.shape, X_test.shape, y_train.shape, y_test.shape)"
   ]
  },
  {
   "cell_type": "code",
   "execution_count": 8,
   "id": "d3e5ec24-4fb6-406c-9ee7-6d502779ab47",
   "metadata": {},
   "outputs": [],
   "source": [
    "# scaling data\n",
    "\n",
    "scaler_X = StandardScaler()\n",
    "X_train = scaler_X.fit_transform(X_train)\n",
    "X_test = scaler_X.transform(X_test)\n",
    "\n",
    "scaler_y = StandardScaler()\n",
    "y_train = scaler_y.fit_transform(y_train.reshape(-1, 1))\n",
    "y_test = scaler_y.transform(y_test.reshape(-1, 1))"
   ]
  },
  {
   "cell_type": "markdown",
   "id": "77648eb5-332a-4817-8553-c203b35cfc79",
   "metadata": {},
   "source": [
    "## Modeling"
   ]
  },
  {
   "cell_type": "code",
   "execution_count": 9,
   "id": "851f01c8-22b0-40d3-a8d7-65a6b5e6f21a",
   "metadata": {},
   "outputs": [],
   "source": [
    "input_dim = X_train.shape[1]\n",
    "model = keras.Sequential([\n",
    "    keras.layers.Dense(32, activation='relu', input_shape=(input_dim,)),\n",
    "    keras.layers.Dense(32, activation='relu'),\n",
    "    keras.layers.Dense(1)\n",
    "])\n",
    "model.compile(loss='mean_squared_error', optimizer='adam', metrics=['mean_absolute_error', 'mean_squared_error'])"
   ]
  },
  {
   "cell_type": "code",
   "execution_count": 10,
   "id": "67373c68-c471-4cf5-a53b-d9965bcbf4c6",
   "metadata": {},
   "outputs": [
    {
     "name": "stdout",
     "output_type": "stream",
     "text": [
      "Epoch 1/100\n",
      "1411/1411 [==============================] - 6s 4ms/step - loss: 0.0263 - mean_absolute_error: 0.0891 - mean_squared_error: 0.0263 - val_loss: 0.0031 - val_mean_absolute_error: 0.0415 - val_mean_squared_error: 0.0031\n",
      "Epoch 2/100\n",
      "1411/1411 [==============================] - 5s 3ms/step - loss: 0.0017 - mean_absolute_error: 0.0315 - mean_squared_error: 0.0017 - val_loss: 0.0010 - val_mean_absolute_error: 0.0243 - val_mean_squared_error: 0.0010\n",
      "Epoch 3/100\n",
      "1411/1411 [==============================] - 4s 3ms/step - loss: 7.4127e-04 - mean_absolute_error: 0.0209 - mean_squared_error: 7.4127e-04 - val_loss: 7.9038e-04 - val_mean_absolute_error: 0.0218 - val_mean_squared_error: 7.9038e-04\n",
      "Epoch 4/100\n",
      "1411/1411 [==============================] - 4s 3ms/step - loss: 4.3915e-04 - mean_absolute_error: 0.0160 - mean_squared_error: 4.3915e-04 - val_loss: 3.3433e-04 - val_mean_absolute_error: 0.0142 - val_mean_squared_error: 3.3433e-04\n",
      "Epoch 5/100\n",
      "1411/1411 [==============================] - 5s 3ms/step - loss: 2.9808e-04 - mean_absolute_error: 0.0131 - mean_squared_error: 2.9808e-04 - val_loss: 2.6690e-04 - val_mean_absolute_error: 0.0125 - val_mean_squared_error: 2.6690e-04\n",
      "Epoch 6/100\n",
      "1411/1411 [==============================] - 4s 3ms/step - loss: 2.5251e-04 - mean_absolute_error: 0.0117 - mean_squared_error: 2.5251e-04 - val_loss: 1.6074e-04 - val_mean_absolute_error: 0.0100 - val_mean_squared_error: 1.6074e-04\n",
      "Epoch 7/100\n",
      "1411/1411 [==============================] - 4s 3ms/step - loss: 1.8012e-04 - mean_absolute_error: 0.0101 - mean_squared_error: 1.8012e-04 - val_loss: 1.5512e-04 - val_mean_absolute_error: 0.0091 - val_mean_squared_error: 1.5512e-04\n",
      "Epoch 8/100\n",
      "1411/1411 [==============================] - 5s 3ms/step - loss: 1.5105e-04 - mean_absolute_error: 0.0091 - mean_squared_error: 1.5105e-04 - val_loss: 8.9104e-05 - val_mean_absolute_error: 0.0070 - val_mean_squared_error: 8.9104e-05\n",
      "Epoch 9/100\n",
      "1411/1411 [==============================] - 4s 3ms/step - loss: 1.2816e-04 - mean_absolute_error: 0.0084 - mean_squared_error: 1.2816e-04 - val_loss: 6.7847e-05 - val_mean_absolute_error: 0.0066 - val_mean_squared_error: 6.7847e-05\n",
      "Epoch 10/100\n",
      "1411/1411 [==============================] - 5s 3ms/step - loss: 1.0014e-04 - mean_absolute_error: 0.0075 - mean_squared_error: 1.0014e-04 - val_loss: 1.0009e-04 - val_mean_absolute_error: 0.0079 - val_mean_squared_error: 1.0009e-04\n",
      "Epoch 11/100\n",
      "1411/1411 [==============================] - 5s 3ms/step - loss: 9.8265e-05 - mean_absolute_error: 0.0073 - mean_squared_error: 9.8265e-05 - val_loss: 4.0512e-05 - val_mean_absolute_error: 0.0049 - val_mean_squared_error: 4.0512e-05\n",
      "Epoch 12/100\n",
      "1411/1411 [==============================] - 4s 3ms/step - loss: 9.4253e-05 - mean_absolute_error: 0.0072 - mean_squared_error: 9.4253e-05 - val_loss: 5.5464e-05 - val_mean_absolute_error: 0.0058 - val_mean_squared_error: 5.5464e-05\n",
      "Epoch 13/100\n",
      "1411/1411 [==============================] - 4s 3ms/step - loss: 1.2303e-04 - mean_absolute_error: 0.0070 - mean_squared_error: 1.2303e-04 - val_loss: 6.2108e-05 - val_mean_absolute_error: 0.0060 - val_mean_squared_error: 6.2108e-05\n",
      "Epoch 14/100\n",
      "1411/1411 [==============================] - 4s 3ms/step - loss: 1.1729e-04 - mean_absolute_error: 0.0070 - mean_squared_error: 1.1729e-04 - val_loss: 1.4543e-04 - val_mean_absolute_error: 0.0091 - val_mean_squared_error: 1.4543e-04\n"
     ]
    }
   ],
   "source": [
    "history = model.fit(X_train, y_train, epochs=100, batch_size=32, validation_split=0.052, callbacks=[keras.callbacks.EarlyStopping(monitor='val_loss', patience=3)])"
   ]
  },
  {
   "cell_type": "code",
   "execution_count": 11,
   "id": "37e9c216-8a92-425f-943b-f73690d9735e",
   "metadata": {},
   "outputs": [
    {
     "data": {
      "image/png": "[encoded data removed]",
      "text/plain": [
       "<Figure size 640x480 with 1 Axes>"
      ]
     },
     "metadata": {},
     "output_type": "display_data"
    }
   ],
   "source": [
    "plt.plot(history.history['loss'])\n",
    "plt.plot(history.history['val_loss'])\n",
    "plt.title('model loss')\n",
    "plt.ylabel('loss')\n",
    "plt.xlabel('epoch')\n",
    "plt.legend(['train', 'test'], loc='upper left')\n",
    "plt.show()"
   ]
  },
  {
   "cell_type": "code",
   "execution_count": 12,
   "id": "b5dd89f7-6e9f-42a3-a3e8-4f5d0c2b8836",
   "metadata": {},
   "outputs": [
    {
     "name": "stdout",
     "output_type": "stream",
     "text": [
      "79/79 [==============================] - 0s 2ms/step - loss: 1.4158e-04 - mean_absolute_error: 0.0090 - mean_squared_error: 1.4158e-04\n",
      "Mean Absolute Error: 0.009023926220834255\n",
      "Mean Squared Error: 0.00014157866826280951\n"
     ]
    }
   ],
   "source": [
    "test_loss, test_mae, test_mse = model.evaluate(X_test, y_test)\n",
    "print(f\"Mean Absolute Error: {test_mae}\")\n",
    "print(f\"Mean Squared Error: {test_mse}\")"
   ]
  },
  {
   "cell_type": "markdown",
   "id": "ad42d3ad-f90b-4459-8345-164c0c99b949",
   "metadata": {},
   "source": [
    "## Predictions"
   ]
  },
  {
   "cell_type": "markdown",
   "id": "f3469454-97fa-4a12-a2e6-29fe3059051f",
   "metadata": {},
   "source": [
    "**Input Data for Prediction**\n",
    "\n",
    "ownership_day: 10\n",
    "\n",
    "mortgage_day: 29\n",
    "\n",
    "ownership_month: 1\n",
    "\n",
    "mortgage_month: 12\n",
    "\n",
    "case_shiller_month: 12\n",
    "\n",
    "year: 2022\n",
    "\n",
    "gdp_billion: $ 25,462\n",
    "\n",
    "gdp_per_capita: $ 76,398.5917\n",
    "\n",
    "population_million: 338.289857\n",
    "\n",
    "immigrants_million: 46.1015\n",
    "\n",
    "ownership_rate: 65.9 %\n",
    "\n",
    "median_income: $ 74580\n",
    "\n",
    "inflation_rate: 8.0028 %\n",
    "\n",
    "mortgage: 6.42 %\n",
    "\n",
    "unemp_rate: 3.611 %"
   ]
  },
  {
   "cell_type": "code",
   "execution_count": 36,
   "id": "3ba4a958-3a69-43fe-a0d7-f7293b14bdb6",
   "metadata": {},
   "outputs": [
    {
     "name": "stdout",
     "output_type": "stream",
     "text": [
      "1/1 [==============================] - 0s 42ms/step\n"
     ]
    }
   ],
   "source": [
    "prediction = model.predict(scaler_X.transform(np.array([[10, 29, 1, 12, 12, 2022, 25462, 76398.5917, 338.46, 46.1015, 65.9, 74580, 8.0028, 6.42, 3.611]])))"
   ]
  },
  {
   "cell_type": "code",
   "execution_count": 37,
   "id": "92880b38-d95a-44e8-a36b-a15b4b315bda",
   "metadata": {},
   "outputs": [],
   "source": [
    "prediction = scaler_y.inverse_transform(prediction) # case-shiller home price index"
   ]
  },
  {
   "cell_type": "code",
   "execution_count": 38,
   "id": "d37d96de-145e-4d36-ac7d-7ecc8fc62468",
   "metadata": {},
   "outputs": [
    {
     "name": "stdout",
     "output_type": "stream",
     "text": [
      "case-shiller home price index is 297.26580810546875\n"
     ]
    }
   ],
   "source": [
    "print(f'case-shiller home price index is {prediction[0][0]}')"
   ]
  }
 ],
 "metadata": {
  "kernelspec": {
   "display_name": "Python 3 (ipykernel)",
   "language": "python",
   "name": "python3"
  },
  "language_info": {
   "codemirror_mode": {
    "name": "ipython",
    "version": 3
   },
   "file_extension": ".py",
   "mimetype": "text/x-python",
   "name": "python",
   "nbconvert_exporter": "python",
   "pygments_lexer": "ipython3",
   "version": "3.10.11"
  }
 },
 "nbformat": 4,
 "nbformat_minor": 5
}
