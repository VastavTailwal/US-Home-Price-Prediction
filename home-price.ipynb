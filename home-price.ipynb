{
 "cells": [
  {
   "cell_type": "markdown",
   "id": "75855593-8ce2-4b00-82a3-10871e41d0d6",
   "metadata": {},
   "source": [
    "# US Home Price Prediction"
   ]
  },
  {
   "cell_type": "code",
   "execution_count": 1,
   "id": "b367ae6c-4968-4986-b6a8-d339ae9be583",
   "metadata": {},
   "outputs": [],
   "source": [
    "import numpy as np\n",
    "import pandas as pd"
   ]
  },
  {
   "cell_type": "code",
   "execution_count": 3,
   "id": "d0380e75-4948-46a6-a157-ce32710c6868",
   "metadata": {},
   "outputs": [],
   "source": [
    "gdp = pd.read_csv(\"Data/gdp.csv\")\n",
    "immig = pd.read_csv(\"Data/immigrants.csv\")\n",
    "infl = pd.read_csv(\"Data/inflation.csv\")\n",
    "mrtg = pd.read_csv(\"Data/mortgage.csv\")\n",
    "ppl = pd.read_csv(\"Data/population.csv\")\n",
    "unemp = pd.read_csv(\"Data/unemployment.csv\")\n",
    "median = pd.read_csv(\"Data/median.csv\")\n",
    "avg = pd.read_csv(\"Data/average.csv\")\n",
    "cs = pd.read_csv(\"Data/cs-shi.csv\")"
   ]
  },
  {
   "cell_type": "code",
   "execution_count": 6,
   "id": "a2cb11b5-10b4-440b-a826-5aa18334ae6b",
   "metadata": {},
   "outputs": [
    {
     "name": "stdout",
     "output_type": "stream",
     "text": [
      "(20, 3) (19, 2) (20, 2) (20, 2) (20, 2) (20, 2) (80, 2) (240, 2)\n"
     ]
    }
   ],
   "source": [
    "print(gdp.shape, immig.shape, infl.shape, ppl.shape, unemp.shape, median.shape, avg.shape, cs.shape)"
   ]
  },
  {
   "cell_type": "markdown",
   "id": "9699c63d-88f7-4b49-a602-29fef039c20d",
   "metadata": {},
   "source": [
    "## GDP"
   ]
  },
  {
   "cell_type": "code",
   "execution_count": null,
   "id": "98d5adcf-f56c-45a2-9d33-7b14b67d0b44",
   "metadata": {},
   "outputs": [],
   "source": []
  }
 ],
 "metadata": {
  "kernelspec": {
   "display_name": "Python 3 (ipykernel)",
   "language": "python",
   "name": "python3"
  },
  "language_info": {
   "codemirror_mode": {
    "name": "ipython",
    "version": 3
   },
   "file_extension": ".py",
   "mimetype": "text/x-python",
   "name": "python",
   "nbconvert_exporter": "python",
   "pygments_lexer": "ipython3",
   "version": "3.10.11"
  }
 },
 "nbformat": 4,
 "nbformat_minor": 5
}
