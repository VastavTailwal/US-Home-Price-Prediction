{
 "cells": [
  {
   "cell_type": "markdown",
   "id": "75855593-8ce2-4b00-82a3-10871e41d0d6",
   "metadata": {},
   "source": [
    "# US Home Price Prediction"
   ]
  },
  {
   "cell_type": "code",
   "execution_count": 2,
   "id": "b367ae6c-4968-4986-b6a8-d339ae9be583",
   "metadata": {},
   "outputs": [],
   "source": [
    "import numpy as np\n",
    "import pandas as pd"
   ]
  },
  {
   "cell_type": "code",
   "execution_count": null,
   "id": "d0380e75-4948-46a6-a157-ce32710c6868",
   "metadata": {},
   "outputs": [],
   "source": [
    "avg_price = pd.read_csv(\"Data/avg-sell-price\")\n",
    "case_shiller = pd.read_csv(\"Data/\")\n",
    "eco_growth = pd.read_csv(\"Data/\")\n",
    "gdp = pd.read_csv(\"Data/\")\n",
    "immig = pd.read_csv(\"Data/\")\n",
    "inf_rate = pd.read_csv(\"Data/\")\n",
    "med_price = pd.read_csv(\"Data/\")\n",
    "mortgage = pd.read_csv(\"Data/\")\n",
    "population = pd.read_csv(\"Data/\")\n",
    "unemp_rate = pd.read_csv(\"Data/\")"
   ]
  }
 ],
 "metadata": {
  "kernelspec": {
   "display_name": "Python 3 (ipykernel)",
   "language": "python",
   "name": "python3"
  },
  "language_info": {
   "codemirror_mode": {
    "name": "ipython",
    "version": 3
   },
   "file_extension": ".py",
   "mimetype": "text/x-python",
   "name": "python",
   "nbconvert_exporter": "python",
   "pygments_lexer": "ipython3",
   "version": "3.10.11"
  }
 },
 "nbformat": 4,
 "nbformat_minor": 5
}
